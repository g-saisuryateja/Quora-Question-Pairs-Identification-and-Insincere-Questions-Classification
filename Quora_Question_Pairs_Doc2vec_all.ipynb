{
  "cells": [
    {
      "cell_type": "code",
      "source": [
        "pip install --upgrade gensim"
      ],
      "metadata": {
        "colab": {
          "base_uri": "https://localhost:8080/"
        },
        "id": "PigIoZKjoAfb",
        "outputId": "17220d19-63a6-48dd-aee6-9d0d7371dc2c"
      },
      "id": "PigIoZKjoAfb",
      "execution_count": 1,
      "outputs": [
        {
          "output_type": "stream",
          "name": "stdout",
          "text": [
            "Looking in indexes: https://pypi.org/simple, https://us-python.pkg.dev/colab-wheels/public/simple/\n",
            "Requirement already satisfied: gensim in /usr/local/lib/python3.7/dist-packages (3.6.0)\n",
            "Collecting gensim\n",
            "  Downloading gensim-4.2.0-cp37-cp37m-manylinux_2_12_x86_64.manylinux2010_x86_64.whl (24.1 MB)\n",
            "\u001b[K     |████████████████████████████████| 24.1 MB 1.4 MB/s \n",
            "\u001b[?25hRequirement already satisfied: smart-open>=1.8.1 in /usr/local/lib/python3.7/dist-packages (from gensim) (6.0.0)\n",
            "Requirement already satisfied: scipy>=0.18.1 in /usr/local/lib/python3.7/dist-packages (from gensim) (1.4.1)\n",
            "Requirement already satisfied: numpy>=1.17.0 in /usr/local/lib/python3.7/dist-packages (from gensim) (1.21.6)\n",
            "Installing collected packages: gensim\n",
            "  Attempting uninstall: gensim\n",
            "    Found existing installation: gensim 3.6.0\n",
            "    Uninstalling gensim-3.6.0:\n",
            "      Successfully uninstalled gensim-3.6.0\n",
            "Successfully installed gensim-4.2.0\n"
          ]
        }
      ]
    },
    {
      "cell_type": "code",
      "execution_count": 2,
      "id": "cb34d504-6472-4eee-bce6-661106a72f1f",
      "metadata": {
        "id": "cb34d504-6472-4eee-bce6-661106a72f1f"
      },
      "outputs": [],
      "source": [
        "from time import time\n",
        "import pandas as pd\n",
        "import numpy as np\n",
        "from gensim.models import KeyedVectors\n",
        "import re\n",
        "from nltk.corpus import stopwords\n",
        "from sklearn.model_selection import train_test_split\n",
        "import matplotlib.pyplot as plt\n",
        "import seaborn as sns\n",
        "\n",
        "import itertools\n",
        "import datetime\n",
        "\n",
        "from keras.preprocessing.sequence import pad_sequences\n",
        "from keras.models import Model\n",
        "from keras.layers import Input, Embedding, LSTM, Lambda\n",
        "import keras.backend as K\n",
        "from tensorflow.keras.optimizers import Adam, Adadelta\n",
        "from keras.callbacks import ModelCheckpoint"
      ]
    },
    {
      "cell_type": "code",
      "source": [
        "from google.colab import drive\n",
        "drive.mount('/content/drive')"
      ],
      "metadata": {
        "colab": {
          "base_uri": "https://localhost:8080/"
        },
        "id": "hjBY7ak8jpj4",
        "outputId": "5523311d-a63d-4de0-cb25-ef30421aa77a"
      },
      "id": "hjBY7ak8jpj4",
      "execution_count": 3,
      "outputs": [
        {
          "output_type": "stream",
          "name": "stdout",
          "text": [
            "Mounted at /content/drive\n"
          ]
        }
      ]
    },
    {
      "cell_type": "code",
      "execution_count": 4,
      "id": "63d17371-d97f-402b-9594-b6ab6a140585",
      "metadata": {
        "id": "63d17371-d97f-402b-9594-b6ab6a140585"
      },
      "outputs": [],
      "source": [
        "# File paths\n",
        "TRAIN_CSV = '/content/drive/My Drive/NLP/QP/train.csv'\n",
        "TEST_CSV = '/content/drive/My Drive/NLP/QP/test.csv'\n",
        "EMBEDDING_FILE = '/content/drive/My Drive/NLP/paragram_300_sl999.txt'\n",
        "MODEL_SAVING_DIR = '/content/drive/My Drive/NLP/'"
      ]
    },
    {
      "cell_type": "code",
      "execution_count": 5,
      "id": "2d788ef5-294c-4154-b7af-235a3de77333",
      "metadata": {
        "colab": {
          "base_uri": "https://localhost:8080/"
        },
        "id": "2d788ef5-294c-4154-b7af-235a3de77333",
        "outputId": "0f9e11e7-9862-4fc8-986b-fa179452de13"
      },
      "outputs": [
        {
          "output_type": "stream",
          "name": "stdout",
          "text": [
            "[nltk_data] Downloading package stopwords to /root/nltk_data...\n",
            "[nltk_data]   Unzipping corpora/stopwords.zip.\n"
          ]
        }
      ],
      "source": [
        "# Load training and test set\n",
        "train_df = pd.read_csv(TRAIN_CSV)\n",
        "test_df = pd.read_csv(TEST_CSV)\n",
        "import nltk\n",
        "nltk.download('stopwords')\n",
        "stops = set(stopwords.words('english'))\n",
        "\n",
        "def text_to_word_list(text):\n",
        "    ''' Pre process and convert texts to a list of words '''\n",
        "    text = str(text)\n",
        "    text = text.lower()\n",
        "\n",
        "    # Clean the text\n",
        "    text = re.sub(r\"[^A-Za-z0-9^,!.\\/'+-=]\", \" \", text)\n",
        "    text = re.sub(r\"what's\", \"what is \", text)\n",
        "    text = re.sub(r\"\\'s\", \" \", text)\n",
        "    text = re.sub(r\"\\'ve\", \" have \", text)\n",
        "    text = re.sub(r\"can't\", \"cannot \", text)\n",
        "    text = re.sub(r\"n't\", \" not \", text)\n",
        "    text = re.sub(r\"i'm\", \"i am \", text)\n",
        "    text = re.sub(r\"\\'re\", \" are \", text)\n",
        "    text = re.sub(r\"\\'d\", \" would \", text)\n",
        "    text = re.sub(r\"\\'ll\", \" will \", text)\n",
        "    text = re.sub(r\",\", \" \", text)\n",
        "    text = re.sub(r\"\\.\", \" \", text)\n",
        "    text = re.sub(r\"!\", \" ! \", text)\n",
        "    text = re.sub(r\"\\/\", \" \", text)\n",
        "    text = re.sub(r\"\\^\", \" ^ \", text)\n",
        "    text = re.sub(r\"\\+\", \" + \", text)\n",
        "    text = re.sub(r\"\\-\", \" - \", text)\n",
        "    text = re.sub(r\"\\=\", \" = \", text)\n",
        "    text = re.sub(r\"'\", \" \", text)\n",
        "    text = re.sub(r\"(\\d+)(k)\", r\"\\g<1>000\", text)\n",
        "    text = re.sub(r\":\", \" : \", text)\n",
        "    text = re.sub(r\" e g \", \" eg \", text)\n",
        "    text = re.sub(r\" b g \", \" bg \", text)\n",
        "    text = re.sub(r\" u s \", \" american \", text)\n",
        "    text = re.sub(r\"\\0s\", \"0\", text)\n",
        "    text = re.sub(r\" 9 11 \", \"911\", text)\n",
        "    text = re.sub(r\"e - mail\", \"email\", text)\n",
        "    text = re.sub(r\"j k\", \"jk\", text)\n",
        "    text = re.sub(r\"\\s{2,}\", \" \", text)\n",
        "\n",
        "    text = text.split()\n",
        "    return text\n",
        "\n",
        "# Prepare embedding\n",
        "vocabulary = dict()\n",
        "inverse_vocabulary = ['<unk>']  # '<unk>' will never be used, it is only a placeholder for the [0, 0, ....0] embedding\n",
        "word2vec = KeyedVectors.load_word2vec_format(EMBEDDING_FILE,no_header=True,encoding= 'unicode_escape')\n",
        "\n",
        "questions_cols = ['question1', 'question2']\n",
        "\n",
        "# Iterate over the questions only of both training and test datasets\n",
        "for dataset in [train_df, test_df]:\n",
        "    for index, row in dataset.iterrows():\n",
        "\n",
        "        # Iterate through the text of both questions of the row\n",
        "        for question in questions_cols:\n",
        "\n",
        "            q2n = []  # q2n -> question numbers representation\n",
        "            for word in text_to_word_list(row[question]):\n",
        "\n",
        "                # Check for unwanted words\n",
        "                if word in stops and word not in word2vec.key_to_index:\n",
        "                    continue\n",
        "\n",
        "                if word not in vocabulary:\n",
        "                    vocabulary[word] = len(inverse_vocabulary)\n",
        "                    q2n.append(len(inverse_vocabulary))\n",
        "                    inverse_vocabulary.append(word)\n",
        "                else:\n",
        "                    q2n.append(vocabulary[word])\n",
        "                    # Replace questions as word to question as number representation\n",
        "            #dataset.set_value(index, question, q2n)\n",
        "            dataset.at[index, question] = q2n\n",
        "            \n",
        "embedding_dim = 300\n",
        "embeddings = 1 * np.random.randn(len(vocabulary) + 1, embedding_dim)  # This will be the embedding matrix\n",
        "embeddings[0] = 0  # So that the padding will be ignored\n",
        "\n",
        "# Build the embedding matrix\n",
        "for word, index in vocabulary.items():\n",
        "    if word in word2vec.key_to_index:\n",
        "        embeddings[index] = word2vec.get_vector(word)\n",
        "\n",
        "del word2vec\n",
        "\n"
      ]
    },
    {
      "cell_type": "code",
      "execution_count": 6,
      "id": "0a8dd460-5849-43cd-8571-38f24cc08b47",
      "metadata": {
        "id": "0a8dd460-5849-43cd-8571-38f24cc08b47"
      },
      "outputs": [],
      "source": [
        "max_seq_length = max(train_df.question1.map(lambda x: len(x)).max(),\n",
        "                     train_df.question2.map(lambda x: len(x)).max(),\n",
        "                     test_df.question1.map(lambda x: len(x)).max(),\n",
        "                     test_df.question2.map(lambda x: len(x)).max())\n",
        "\n",
        "# Split to train validation\n",
        "validation_size = 40000\n",
        "training_size = len(train_df) - validation_size\n",
        "\n",
        "X = train_df[questions_cols]\n",
        "Y = train_df['is_duplicate']\n",
        "\n",
        "X_train, X_validation, Y_train, Y_validation = train_test_split(X, Y, test_size=validation_size)\n",
        "\n",
        "# Split to dicts\n",
        "X_train = {'left': X_train.question1, 'right': X_train.question2}\n",
        "X_validation = {'left': X_validation.question1, 'right': X_validation.question2}\n",
        "X_test = {'left': test_df.question1, 'right': test_df.question2}\n",
        "\n",
        "# Convert labels to their numpy representations\n",
        "Y_train = Y_train.values\n",
        "Y_validation = Y_validation.values\n",
        "\n",
        "# Zero padding\n",
        "for dataset, side in itertools.product([X_train, X_validation], ['left', 'right']):\n",
        "    dataset[side] = pad_sequences(dataset[side], maxlen=max_seq_length)\n",
        "\n",
        "# Make sure everything is ok\n",
        "assert X_train['left'].shape == X_train['right'].shape\n",
        "assert len(X_train['left']) == len(Y_train)"
      ]
    },
    {
      "cell_type": "code",
      "source": [
        "import tensorflow as tf"
      ],
      "metadata": {
        "id": "QjT8E3fRp6CT"
      },
      "id": "QjT8E3fRp6CT",
      "execution_count": 8,
      "outputs": []
    },
    {
      "cell_type": "code",
      "execution_count": 10,
      "id": "27a4abf7-161d-49d7-acc1-68fed7baa54f",
      "metadata": {
        "id": "27a4abf7-161d-49d7-acc1-68fed7baa54f",
        "outputId": "7676f858-959a-436b-d354-043ebea7ecd4",
        "colab": {
          "base_uri": "https://localhost:8080/"
        }
      },
      "outputs": [
        {
          "output_type": "stream",
          "name": "stdout",
          "text": [
            "Epoch 1/30\n",
            "5693/5693 [==============================] - 141s 23ms/step - loss: 0.1526 - accuracy: 0.7820 - precision: 0.7594 - recall: 0.5988 - val_loss: 0.1379 - val_accuracy: 0.8031 - val_precision: 0.7855 - val_recall: 0.6477\n",
            "Epoch 2/30\n",
            "5693/5693 [==============================] - 131s 23ms/step - loss: 0.1300 - accuracy: 0.8190 - precision: 0.7939 - recall: 0.6879 - val_loss: 0.1316 - val_accuracy: 0.8124 - val_precision: 0.8075 - val_recall: 0.6511\n",
            "Epoch 3/30\n",
            "5693/5693 [==============================] - 132s 23ms/step - loss: 0.1227 - accuracy: 0.8312 - precision: 0.8080 - recall: 0.7115 - val_loss: 0.1271 - val_accuracy: 0.8219 - val_precision: 0.8057 - val_recall: 0.6871\n",
            "Epoch 4/30\n",
            "5693/5693 [==============================] - 132s 23ms/step - loss: 0.1177 - accuracy: 0.8399 - precision: 0.8185 - recall: 0.7272 - val_loss: 0.1254 - val_accuracy: 0.8235 - val_precision: 0.8136 - val_recall: 0.6818\n",
            "Epoch 5/30\n",
            "5693/5693 [==============================] - 133s 23ms/step - loss: 0.1138 - accuracy: 0.8470 - precision: 0.8278 - recall: 0.7388 - val_loss: 0.1236 - val_accuracy: 0.8292 - val_precision: 0.7902 - val_recall: 0.7367\n",
            "Epoch 6/30\n",
            "5693/5693 [==============================] - 133s 23ms/step - loss: 0.1107 - accuracy: 0.8523 - precision: 0.8339 - recall: 0.7487 - val_loss: 0.1221 - val_accuracy: 0.8289 - val_precision: 0.8168 - val_recall: 0.6963\n",
            "Epoch 7/30\n",
            "5693/5693 [==============================] - 131s 23ms/step - loss: 0.1081 - accuracy: 0.8564 - precision: 0.8393 - recall: 0.7554 - val_loss: 0.1212 - val_accuracy: 0.8312 - val_precision: 0.8028 - val_recall: 0.7244\n",
            "Epoch 8/30\n",
            "5693/5693 [==============================] - 131s 23ms/step - loss: 0.1058 - accuracy: 0.8610 - precision: 0.8446 - recall: 0.7637 - val_loss: 0.1203 - val_accuracy: 0.8329 - val_precision: 0.8046 - val_recall: 0.7276\n",
            "Epoch 9/30\n",
            "5693/5693 [==============================] - 130s 23ms/step - loss: 0.1039 - accuracy: 0.8637 - precision: 0.8482 - recall: 0.7680 - val_loss: 0.1199 - val_accuracy: 0.8333 - val_precision: 0.7970 - val_recall: 0.7408\n",
            "Epoch 10/30\n",
            "5693/5693 [==============================] - 132s 23ms/step - loss: 0.1023 - accuracy: 0.8667 - precision: 0.8516 - recall: 0.7734 - val_loss: 0.1193 - val_accuracy: 0.8344 - val_precision: 0.8059 - val_recall: 0.7312\n",
            "Epoch 11/30\n",
            "5693/5693 [==============================] - 131s 23ms/step - loss: 0.1006 - accuracy: 0.8695 - precision: 0.8555 - recall: 0.7775 - val_loss: 0.1186 - val_accuracy: 0.8350 - val_precision: 0.8149 - val_recall: 0.7202\n",
            "Epoch 12/30\n",
            "5693/5693 [==============================] - 132s 23ms/step - loss: 0.0991 - accuracy: 0.8719 - precision: 0.8586 - recall: 0.7814 - val_loss: 0.1184 - val_accuracy: 0.8347 - val_precision: 0.8113 - val_recall: 0.7244\n",
            "Epoch 13/30\n",
            "5693/5693 [==============================] - 131s 23ms/step - loss: 0.0978 - accuracy: 0.8745 - precision: 0.8618 - recall: 0.7857 - val_loss: 0.1185 - val_accuracy: 0.8356 - val_precision: 0.8005 - val_recall: 0.7435\n",
            "Epoch 14/30\n",
            "5693/5693 [==============================] - 131s 23ms/step - loss: 0.0965 - accuracy: 0.8767 - precision: 0.8645 - recall: 0.7894 - val_loss: 0.1178 - val_accuracy: 0.8353 - val_precision: 0.8079 - val_recall: 0.7316\n",
            "Epoch 15/30\n",
            "5693/5693 [==============================] - 131s 23ms/step - loss: 0.0954 - accuracy: 0.8783 - precision: 0.8662 - recall: 0.7927 - val_loss: 0.1176 - val_accuracy: 0.8359 - val_precision: 0.8173 - val_recall: 0.7200\n",
            "Epoch 16/30\n",
            "5693/5693 [==============================] - 131s 23ms/step - loss: 0.0943 - accuracy: 0.8800 - precision: 0.8691 - recall: 0.7944 - val_loss: 0.1178 - val_accuracy: 0.8357 - val_precision: 0.8119 - val_recall: 0.7269\n",
            "Epoch 17/30\n",
            "5693/5693 [==============================] - 132s 23ms/step - loss: 0.0933 - accuracy: 0.8817 - precision: 0.8709 - recall: 0.7976 - val_loss: 0.1178 - val_accuracy: 0.8353 - val_precision: 0.8074 - val_recall: 0.7320\n",
            "Epoch 18/30\n",
            "5693/5693 [==============================] - 131s 23ms/step - loss: 0.0924 - accuracy: 0.8833 - precision: 0.8730 - recall: 0.8000 - val_loss: 0.1176 - val_accuracy: 0.8372 - val_precision: 0.8147 - val_recall: 0.7281\n",
            "Epoch 19/30\n",
            "5693/5693 [==============================] - 132s 23ms/step - loss: 0.0915 - accuracy: 0.8851 - precision: 0.8754 - recall: 0.8026 - val_loss: 0.1180 - val_accuracy: 0.8359 - val_precision: 0.7968 - val_recall: 0.7503\n",
            "Epoch 20/30\n",
            "5693/5693 [==============================] - 130s 23ms/step - loss: 0.0907 - accuracy: 0.8862 - precision: 0.8760 - recall: 0.8056 - val_loss: 0.1177 - val_accuracy: 0.8376 - val_precision: 0.8024 - val_recall: 0.7478\n",
            "Epoch 21/30\n",
            "5693/5693 [==============================] - 131s 23ms/step - loss: 0.0898 - accuracy: 0.8879 - precision: 0.8785 - recall: 0.8078 - val_loss: 0.1174 - val_accuracy: 0.8365 - val_precision: 0.8118 - val_recall: 0.7300\n",
            "Epoch 22/30\n",
            "5693/5693 [==============================] - 130s 23ms/step - loss: 0.0892 - accuracy: 0.8884 - precision: 0.8791 - recall: 0.8088 - val_loss: 0.1175 - val_accuracy: 0.8370 - val_precision: 0.8069 - val_recall: 0.7387\n",
            "Epoch 23/30\n",
            "5693/5693 [==============================] - 131s 23ms/step - loss: 0.0884 - accuracy: 0.8896 - precision: 0.8812 - recall: 0.8098 - val_loss: 0.1173 - val_accuracy: 0.8376 - val_precision: 0.8054 - val_recall: 0.7432\n",
            "Epoch 24/30\n",
            "5693/5693 [==============================] - 132s 23ms/step - loss: 0.0877 - accuracy: 0.8918 - precision: 0.8839 - recall: 0.8136 - val_loss: 0.1171 - val_accuracy: 0.8373 - val_precision: 0.8182 - val_recall: 0.7236\n",
            "Epoch 25/30\n",
            "5693/5693 [==============================] - 130s 23ms/step - loss: 0.0871 - accuracy: 0.8919 - precision: 0.8836 - recall: 0.8142 - val_loss: 0.1171 - val_accuracy: 0.8380 - val_precision: 0.8164 - val_recall: 0.7287\n",
            "Epoch 26/30\n",
            "5693/5693 [==============================] - 131s 23ms/step - loss: 0.0864 - accuracy: 0.8933 - precision: 0.8854 - recall: 0.8163 - val_loss: 0.1169 - val_accuracy: 0.8373 - val_precision: 0.8063 - val_recall: 0.7408\n",
            "Epoch 27/30\n",
            "5693/5693 [==============================] - 131s 23ms/step - loss: 0.0859 - accuracy: 0.8940 - precision: 0.8867 - recall: 0.8170 - val_loss: 0.1171 - val_accuracy: 0.8372 - val_precision: 0.8084 - val_recall: 0.7373\n",
            "Epoch 28/30\n",
            "5693/5693 [==============================] - 144s 25ms/step - loss: 0.0854 - accuracy: 0.8950 - precision: 0.8877 - recall: 0.8189 - val_loss: 0.1166 - val_accuracy: 0.8388 - val_precision: 0.8151 - val_recall: 0.7330\n",
            "Epoch 29/30\n",
            "5693/5693 [==============================] - 132s 23ms/step - loss: 0.0848 - accuracy: 0.8961 - precision: 0.8898 - recall: 0.8197 - val_loss: 0.1168 - val_accuracy: 0.8388 - val_precision: 0.8180 - val_recall: 0.7291\n",
            "Epoch 30/30\n",
            "5693/5693 [==============================] - 132s 23ms/step - loss: 0.0843 - accuracy: 0.8969 - precision: 0.8905 - recall: 0.8215 - val_loss: 0.1165 - val_accuracy: 0.8397 - val_precision: 0.8136 - val_recall: 0.7383\n"
          ]
        }
      ],
      "source": [
        "# Model variables\n",
        "n_hidden = 50\n",
        "gradient_clipping_norm = 1.25\n",
        "batch_size = 64\n",
        "n_epoch = 30\n",
        "\n",
        "def exponent_neg_manhattan_distance(left, right):\n",
        "    ''' Helper function for the similarity estimate of the LSTMs outputs'''\n",
        "    return K.exp(-K.sum(K.abs(left-right), axis=1, keepdims=True))\n",
        "\n",
        "# The visible layer\n",
        "left_input = Input(shape=(max_seq_length,), dtype='int32')\n",
        "right_input = Input(shape=(max_seq_length,), dtype='int32')\n",
        "\n",
        "embedding_layer = Embedding(len(embeddings), embedding_dim, weights=[embeddings], input_length=max_seq_length, trainable=False)\n",
        "\n",
        "# Embedded version of the inputs\n",
        "encoded_left = embedding_layer(left_input)\n",
        "encoded_right = embedding_layer(right_input)\n",
        "\n",
        "# Since this is a siamese network, both sides share the same LSTM\n",
        "shared_lstm = LSTM(n_hidden)\n",
        "\n",
        "left_output = shared_lstm(encoded_left)\n",
        "right_output = shared_lstm(encoded_right)\n",
        "\n",
        "# Calculates the distance as defined by the MaLSTM model\n",
        "malstm_distance = Lambda(function=lambda x: exponent_neg_manhattan_distance(x[0], x[1]),output_shape=lambda x: (x[0][0], 1))([left_output, right_output])\n",
        "\n",
        "# Pack it all up into a model\n",
        "malstm = Model([left_input, right_input], [malstm_distance])\n",
        "\n",
        "# Adadelta optimizer, with gradient clipping by norm\n",
        "optimizer = Adam(clipnorm=gradient_clipping_norm)\n",
        "\n",
        "malstm.compile(loss='mean_squared_error', optimizer=optimizer, metrics=['accuracy',tf.keras.metrics.Precision(),tf.keras.metrics.Recall()])\n",
        "\n",
        "# Start training\n",
        "training_start_time = time()\n",
        "\n",
        "malstm_trained = malstm.fit([X_train['left'], X_train['right']], Y_train, batch_size=batch_size, epochs=n_epoch,\n",
        "                            validation_data=([X_validation['left'], X_validation['right']], Y_validation))"
      ]
    },
    {
      "cell_type": "code",
      "execution_count": 11,
      "id": "dd712985-c0a3-4ca1-9090-d1b619000a03",
      "metadata": {
        "id": "dd712985-c0a3-4ca1-9090-d1b619000a03",
        "outputId": "fb77b95c-fd7d-4122-c7c7-026e965ead60",
        "colab": {
          "base_uri": "https://localhost:8080/"
        }
      },
      "outputs": [
        {
          "output_type": "stream",
          "name": "stdout",
          "text": [
            "Training time finished.\n",
            "30 epochs in 1:06:04.066914\n"
          ]
        }
      ],
      "source": [
        "print(\"Training time finished.\\n{} epochs in {}\".format(n_epoch, datetime.timedelta(seconds=time()-training_start_time)))"
      ]
    },
    {
      "cell_type": "code",
      "execution_count": 12,
      "id": "8ff0b13c-30a7-4cf3-80af-52affb8a9859",
      "metadata": {
        "id": "8ff0b13c-30a7-4cf3-80af-52affb8a9859",
        "outputId": "98da7523-8687-4377-f1f7-850bf475ac32",
        "colab": {
          "base_uri": "https://localhost:8080/",
          "height": 573
        }
      },
      "outputs": [
        {
          "output_type": "display_data",
          "data": {
            "text/plain": [
              "<Figure size 432x288 with 1 Axes>"
            ],
            "image/png": "[encoded data removed]"
          },
          "metadata": {
            "needs_background": "light"
          }
        },
        {
          "output_type": "display_data",
          "data": {
            "text/plain": [
              "<Figure size 432x288 with 1 Axes>"
            ],
            "image/png": "[encoded data removed]"
          },
          "metadata": {
            "needs_background": "light"
          }
        }
      ],
      "source": [
        "# Plot accuracy\n",
        "plt.plot(malstm_trained.history['accuracy'])\n",
        "plt.plot(malstm_trained.history['val_accuracy'])\n",
        "plt.title('Model Accuracy')\n",
        "plt.ylabel('Accuracy')\n",
        "plt.xlabel('Epoch')\n",
        "plt.legend(['Train', 'Validation'], loc='upper left')\n",
        "plt.show()\n",
        "\n",
        "# Plot loss\n",
        "plt.plot(malstm_trained.history['loss'])\n",
        "plt.plot(malstm_trained.history['val_loss'])\n",
        "plt.title('Model Loss')\n",
        "plt.ylabel('Loss')\n",
        "plt.xlabel('Epoch')\n",
        "plt.legend(['Train', 'Validation'], loc='upper right')\n",
        "plt.show()"
      ]
    },
    {
      "cell_type": "code",
      "source": [
        "malstm.save_weights('/drive/My Drive/weights_all/checkpoint')"
      ],
      "metadata": {
        "id": "8u87jVdsNsHK"
      },
      "id": "8u87jVdsNsHK",
      "execution_count": 13,
      "outputs": []
    }
  ],
  "metadata": {
    "kernelspec": {
      "display_name": "general",
      "language": "python",
      "name": "general"
    },
    "language_info": {
      "codemirror_mode": {
        "name": "ipython",
        "version": 3
      },
      "file_extension": ".py",
      "mimetype": "text/x-python",
      "name": "python",
      "nbconvert_exporter": "python",
      "pygments_lexer": "ipython3",
      "version": "3.8.5"
    },
    "colab": {
      "name": "Quora_Question_Pairs_Doc2vec.ipynb",
      "provenance": [],
      "collapsed_sections": []
    },
    "accelerator": "GPU"
  },
  "nbformat": 4,
  "nbformat_minor": 5
}