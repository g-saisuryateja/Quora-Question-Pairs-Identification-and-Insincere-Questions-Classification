{
  "cells": [
    {
      "cell_type": "code",
      "source": [
        "pip install --upgrade gensim"
      ],
      "metadata": {
        "colab": {
          "base_uri": "https://localhost:8080/"
        },
        "id": "PigIoZKjoAfb",
        "outputId": "87889cd3-acff-478a-b637-dbb1683a082e"
      },
      "id": "PigIoZKjoAfb",
      "execution_count": 13,
      "outputs": [
        {
          "output_type": "stream",
          "name": "stdout",
          "text": [
            "Looking in indexes: https://pypi.org/simple, https://us-python.pkg.dev/colab-wheels/public/simple/\n",
            "Requirement already satisfied: gensim in /usr/local/lib/python3.7/dist-packages (4.2.0)\n",
            "Requirement already satisfied: numpy>=1.17.0 in /usr/local/lib/python3.7/dist-packages (from gensim) (1.21.6)\n",
            "Requirement already satisfied: smart-open>=1.8.1 in /usr/local/lib/python3.7/dist-packages (from gensim) (6.0.0)\n",
            "Requirement already satisfied: scipy>=0.18.1 in /usr/local/lib/python3.7/dist-packages (from gensim) (1.4.1)\n"
          ]
        }
      ]
    },
    {
      "cell_type": "code",
      "execution_count": 14,
      "id": "cb34d504-6472-4eee-bce6-661106a72f1f",
      "metadata": {
        "id": "cb34d504-6472-4eee-bce6-661106a72f1f"
      },
      "outputs": [],
      "source": [
        "from time import time\n",
        "import pandas as pd\n",
        "import numpy as np\n",
        "from gensim.models import KeyedVectors\n",
        "import re\n",
        "from nltk.corpus import stopwords\n",
        "from sklearn.model_selection import train_test_split\n",
        "import matplotlib.pyplot as plt\n",
        "import seaborn as sns\n",
        "\n",
        "import itertools\n",
        "import datetime\n",
        "\n",
        "from keras.preprocessing.sequence import pad_sequences\n",
        "from keras.models import Model\n",
        "from keras.layers import Input, Embedding, LSTM, Lambda\n",
        "import keras.backend as K\n",
        "from tensorflow.keras.optimizers import Adam, Adadelta\n",
        "from keras.callbacks import ModelCheckpoint"
      ]
    },
    {
      "cell_type": "code",
      "source": [
        "from google.colab import drive\n",
        "drive.mount('/content/drive')"
      ],
      "metadata": {
        "colab": {
          "base_uri": "https://localhost:8080/"
        },
        "id": "hjBY7ak8jpj4",
        "outputId": "acb507a3-9e9a-493a-9f35-cb860b2e41d5"
      },
      "id": "hjBY7ak8jpj4",
      "execution_count": 15,
      "outputs": [
        {
          "output_type": "stream",
          "name": "stdout",
          "text": [
            "Drive already mounted at /content/drive; to attempt to forcibly remount, call drive.mount(\"/content/drive\", force_remount=True).\n"
          ]
        }
      ]
    },
    {
      "cell_type": "code",
      "execution_count": 16,
      "id": "63d17371-d97f-402b-9594-b6ab6a140585",
      "metadata": {
        "id": "63d17371-d97f-402b-9594-b6ab6a140585"
      },
      "outputs": [],
      "source": [
        "# File paths\n",
        "TRAIN_CSV = '/content/drive/My Drive/NLP/QP/train.csv'\n",
        "TEST_CSV = '/content/drive/My Drive/NLP/QP/test.csv'\n",
        "EMBEDDING_FILE = '/content/drive/My Drive/NLP/wiki-news-300d-1M.vec'\n",
        "MODEL_SAVING_DIR = '/content/drive/My Drive/NLP/'"
      ]
    },
    {
      "cell_type": "code",
      "execution_count": 18,
      "id": "2d788ef5-294c-4154-b7af-235a3de77333",
      "metadata": {
        "colab": {
          "base_uri": "https://localhost:8080/"
        },
        "id": "2d788ef5-294c-4154-b7af-235a3de77333",
        "outputId": "f35fad8d-7731-44ec-e7d6-15391a578021"
      },
      "outputs": [
        {
          "output_type": "stream",
          "name": "stdout",
          "text": [
            "[nltk_data] Downloading package stopwords to /root/nltk_data...\n",
            "[nltk_data]   Package stopwords is already up-to-date!\n"
          ]
        }
      ],
      "source": [
        "# Load training and test set\n",
        "train_df = pd.read_csv(TRAIN_CSV)\n",
        "test_df = pd.read_csv(TEST_CSV)\n",
        "import nltk\n",
        "nltk.download('stopwords')\n",
        "stops = set(stopwords.words('english'))\n",
        "\n",
        "def text_to_word_list(text):\n",
        "    ''' Pre process and convert texts to a list of words '''\n",
        "    text = str(text)\n",
        "    text = text.lower()\n",
        "\n",
        "    # Clean the text\n",
        "    text = re.sub(r\"[^A-Za-z0-9^,!.\\/'+-=]\", \" \", text)\n",
        "    text = re.sub(r\"what's\", \"what is \", text)\n",
        "    text = re.sub(r\"\\'s\", \" \", text)\n",
        "    text = re.sub(r\"\\'ve\", \" have \", text)\n",
        "    text = re.sub(r\"can't\", \"cannot \", text)\n",
        "    text = re.sub(r\"n't\", \" not \", text)\n",
        "    text = re.sub(r\"i'm\", \"i am \", text)\n",
        "    text = re.sub(r\"\\'re\", \" are \", text)\n",
        "    text = re.sub(r\"\\'d\", \" would \", text)\n",
        "    text = re.sub(r\"\\'ll\", \" will \", text)\n",
        "    text = re.sub(r\",\", \" \", text)\n",
        "    text = re.sub(r\"\\.\", \" \", text)\n",
        "    text = re.sub(r\"!\", \" ! \", text)\n",
        "    text = re.sub(r\"\\/\", \" \", text)\n",
        "    text = re.sub(r\"\\^\", \" ^ \", text)\n",
        "    text = re.sub(r\"\\+\", \" + \", text)\n",
        "    text = re.sub(r\"\\-\", \" - \", text)\n",
        "    text = re.sub(r\"\\=\", \" = \", text)\n",
        "    text = re.sub(r\"'\", \" \", text)\n",
        "    text = re.sub(r\"(\\d+)(k)\", r\"\\g<1>000\", text)\n",
        "    text = re.sub(r\":\", \" : \", text)\n",
        "    text = re.sub(r\" e g \", \" eg \", text)\n",
        "    text = re.sub(r\" b g \", \" bg \", text)\n",
        "    text = re.sub(r\" u s \", \" american \", text)\n",
        "    text = re.sub(r\"\\0s\", \"0\", text)\n",
        "    text = re.sub(r\" 9 11 \", \"911\", text)\n",
        "    text = re.sub(r\"e - mail\", \"email\", text)\n",
        "    text = re.sub(r\"j k\", \"jk\", text)\n",
        "    text = re.sub(r\"\\s{2,}\", \" \", text)\n",
        "\n",
        "    text = text.split()\n",
        "    return text\n",
        "\n",
        "# Prepare embedding\n",
        "vocabulary = dict()\n",
        "inverse_vocabulary = ['<unk>']  # '<unk>' will never be used, it is only a placeholder for the [0, 0, ....0] embedding\n",
        "word2vec = KeyedVectors.load_word2vec_format(EMBEDDING_FILE)\n",
        "\n",
        "questions_cols = ['question1', 'question2']\n",
        "\n",
        "# Iterate over the questions only of both training and test datasets\n",
        "for dataset in [train_df, test_df]:\n",
        "    for index, row in dataset.iterrows():\n",
        "\n",
        "        # Iterate through the text of both questions of the row\n",
        "        for question in questions_cols:\n",
        "\n",
        "            q2n = []  # q2n -> question numbers representation\n",
        "            for word in text_to_word_list(row[question]):\n",
        "\n",
        "                # Check for unwanted words\n",
        "                if word in stops and word not in word2vec.key_to_index:\n",
        "                    continue\n",
        "\n",
        "                if word not in vocabulary:\n",
        "                    vocabulary[word] = len(inverse_vocabulary)\n",
        "                    q2n.append(len(inverse_vocabulary))\n",
        "                    inverse_vocabulary.append(word)\n",
        "                else:\n",
        "                    q2n.append(vocabulary[word])\n",
        "                    # Replace questions as word to question as number representation\n",
        "            #dataset.set_value(index, question, q2n)\n",
        "            dataset.at[index, question] = q2n\n",
        "            \n",
        "embedding_dim = 300\n",
        "embeddings = 1 * np.random.randn(len(vocabulary) + 1, embedding_dim)  # This will be the embedding matrix\n",
        "embeddings[0] = 0  # So that the padding will be ignored\n",
        "\n",
        "# Build the embedding matrix\n",
        "for word, index in vocabulary.items():\n",
        "    if word in word2vec.key_to_index:\n",
        "        embeddings[index] = word2vec.get_vector(word)\n",
        "\n",
        "del word2vec\n",
        "\n"
      ]
    },
    {
      "cell_type": "code",
      "execution_count": 19,
      "id": "0a8dd460-5849-43cd-8571-38f24cc08b47",
      "metadata": {
        "id": "0a8dd460-5849-43cd-8571-38f24cc08b47"
      },
      "outputs": [],
      "source": [
        "max_seq_length = max(train_df.question1.map(lambda x: len(x)).max(),\n",
        "                     train_df.question2.map(lambda x: len(x)).max(),\n",
        "                     test_df.question1.map(lambda x: len(x)).max(),\n",
        "                     test_df.question2.map(lambda x: len(x)).max())\n",
        "\n",
        "# Split to train validation\n",
        "validation_size = 40000\n",
        "training_size = len(train_df) - validation_size\n",
        "\n",
        "X = train_df[questions_cols]\n",
        "Y = train_df['is_duplicate']\n",
        "\n",
        "X_train, X_validation, Y_train, Y_validation = train_test_split(X, Y, test_size=validation_size)\n",
        "\n",
        "# Split to dicts\n",
        "X_train = {'left': X_train.question1, 'right': X_train.question2}\n",
        "X_validation = {'left': X_validation.question1, 'right': X_validation.question2}\n",
        "X_test = {'left': test_df.question1, 'right': test_df.question2}\n",
        "\n",
        "# Convert labels to their numpy representations\n",
        "Y_train = Y_train.values\n",
        "Y_validation = Y_validation.values\n",
        "\n",
        "# Zero padding\n",
        "for dataset, side in itertools.product([X_train, X_validation], ['left', 'right']):\n",
        "    dataset[side] = pad_sequences(dataset[side], maxlen=max_seq_length)\n",
        "\n",
        "# Make sure everything is ok\n",
        "assert X_train['left'].shape == X_train['right'].shape\n",
        "assert len(X_train['left']) == len(Y_train)"
      ]
    },
    {
      "cell_type": "code",
      "execution_count": 20,
      "id": "27a4abf7-161d-49d7-acc1-68fed7baa54f",
      "metadata": {
        "id": "27a4abf7-161d-49d7-acc1-68fed7baa54f",
        "outputId": "dd8bedaf-b5c7-4765-8fbd-784803e02246",
        "colab": {
          "base_uri": "https://localhost:8080/"
        }
      },
      "outputs": [
        {
          "output_type": "stream",
          "name": "stdout",
          "text": [
            "Epoch 1/30\n",
            "5693/5693 [==============================] - 129s 22ms/step - loss: 0.1632 - accuracy: 0.7637 - val_loss: 0.1498 - val_accuracy: 0.7890\n",
            "Epoch 2/30\n",
            "5693/5693 [==============================] - 125s 22ms/step - loss: 0.1441 - accuracy: 0.7999 - val_loss: 0.1415 - val_accuracy: 0.8017\n",
            "Epoch 3/30\n",
            "5693/5693 [==============================] - 126s 22ms/step - loss: 0.1363 - accuracy: 0.8136 - val_loss: 0.1369 - val_accuracy: 0.8087\n",
            "Epoch 4/30\n",
            "5693/5693 [==============================] - 126s 22ms/step - loss: 0.1312 - accuracy: 0.8215 - val_loss: 0.1336 - val_accuracy: 0.8147\n",
            "Epoch 5/30\n",
            "5693/5693 [==============================] - 126s 22ms/step - loss: 0.1275 - accuracy: 0.8271 - val_loss: 0.1314 - val_accuracy: 0.8209\n",
            "Epoch 6/30\n",
            "5693/5693 [==============================] - 132s 23ms/step - loss: 0.1245 - accuracy: 0.8325 - val_loss: 0.1292 - val_accuracy: 0.8233\n",
            "Epoch 7/30\n",
            "5693/5693 [==============================] - 127s 22ms/step - loss: 0.1220 - accuracy: 0.8363 - val_loss: 0.1279 - val_accuracy: 0.8267\n",
            "Epoch 8/30\n",
            "5693/5693 [==============================] - 128s 22ms/step - loss: 0.1199 - accuracy: 0.8396 - val_loss: 0.1268 - val_accuracy: 0.8272\n",
            "Epoch 9/30\n",
            "5693/5693 [==============================] - 128s 22ms/step - loss: 0.1180 - accuracy: 0.8429 - val_loss: 0.1262 - val_accuracy: 0.8274\n",
            "Epoch 10/30\n",
            "5693/5693 [==============================] - 128s 22ms/step - loss: 0.1163 - accuracy: 0.8459 - val_loss: 0.1252 - val_accuracy: 0.8298\n",
            "Epoch 11/30\n",
            "5693/5693 [==============================] - 128s 22ms/step - loss: 0.1148 - accuracy: 0.8480 - val_loss: 0.1240 - val_accuracy: 0.8299\n",
            "Epoch 12/30\n",
            "5693/5693 [==============================] - 127s 22ms/step - loss: 0.1133 - accuracy: 0.8516 - val_loss: 0.1234 - val_accuracy: 0.8321\n",
            "Epoch 13/30\n",
            "5693/5693 [==============================] - 128s 22ms/step - loss: 0.1121 - accuracy: 0.8528 - val_loss: 0.1230 - val_accuracy: 0.8328\n",
            "Epoch 14/30\n",
            "5693/5693 [==============================] - 128s 22ms/step - loss: 0.1109 - accuracy: 0.8545 - val_loss: 0.1226 - val_accuracy: 0.8324\n",
            "Epoch 15/30\n",
            "5693/5693 [==============================] - 126s 22ms/step - loss: 0.1098 - accuracy: 0.8564 - val_loss: 0.1220 - val_accuracy: 0.8320\n",
            "Epoch 16/30\n",
            "5693/5693 [==============================] - 125s 22ms/step - loss: 0.1088 - accuracy: 0.8585 - val_loss: 0.1216 - val_accuracy: 0.8339\n",
            "Epoch 17/30\n",
            "5693/5693 [==============================] - 130s 23ms/step - loss: 0.1079 - accuracy: 0.8597 - val_loss: 0.1218 - val_accuracy: 0.8345\n",
            "Epoch 18/30\n",
            "5693/5693 [==============================] - 128s 23ms/step - loss: 0.1070 - accuracy: 0.8615 - val_loss: 0.1211 - val_accuracy: 0.8349\n",
            "Epoch 19/30\n",
            "5693/5693 [==============================] - 128s 23ms/step - loss: 0.1061 - accuracy: 0.8630 - val_loss: 0.1214 - val_accuracy: 0.8350\n",
            "Epoch 20/30\n",
            "5693/5693 [==============================] - 129s 23ms/step - loss: 0.1054 - accuracy: 0.8643 - val_loss: 0.1204 - val_accuracy: 0.8356\n",
            "Epoch 21/30\n",
            "5693/5693 [==============================] - 128s 22ms/step - loss: 0.1046 - accuracy: 0.8653 - val_loss: 0.1204 - val_accuracy: 0.8365\n",
            "Epoch 22/30\n",
            "5693/5693 [==============================] - 128s 22ms/step - loss: 0.1039 - accuracy: 0.8667 - val_loss: 0.1202 - val_accuracy: 0.8374\n",
            "Epoch 23/30\n",
            "5693/5693 [==============================] - 128s 23ms/step - loss: 0.1032 - accuracy: 0.8679 - val_loss: 0.1200 - val_accuracy: 0.8363\n",
            "Epoch 24/30\n",
            "5693/5693 [==============================] - 129s 23ms/step - loss: 0.1025 - accuracy: 0.8689 - val_loss: 0.1206 - val_accuracy: 0.8354\n",
            "Epoch 25/30\n",
            "5693/5693 [==============================] - 129s 23ms/step - loss: 0.1019 - accuracy: 0.8698 - val_loss: 0.1199 - val_accuracy: 0.8368\n",
            "Epoch 26/30\n",
            "5693/5693 [==============================] - 130s 23ms/step - loss: 0.1012 - accuracy: 0.8712 - val_loss: 0.1198 - val_accuracy: 0.8377\n",
            "Epoch 27/30\n",
            "5693/5693 [==============================] - 130s 23ms/step - loss: 0.1007 - accuracy: 0.8720 - val_loss: 0.1196 - val_accuracy: 0.8374\n",
            "Epoch 28/30\n",
            "5693/5693 [==============================] - 131s 23ms/step - loss: 0.1000 - accuracy: 0.8732 - val_loss: 0.1197 - val_accuracy: 0.8376\n",
            "Epoch 29/30\n",
            "5693/5693 [==============================] - 131s 23ms/step - loss: 0.0995 - accuracy: 0.8739 - val_loss: 0.1197 - val_accuracy: 0.8366\n",
            "Epoch 30/30\n",
            "5693/5693 [==============================] - 127s 22ms/step - loss: 0.0989 - accuracy: 0.8753 - val_loss: 0.1194 - val_accuracy: 0.8376\n"
          ]
        }
      ],
      "source": [
        "# Model variables\n",
        "n_hidden = 50\n",
        "gradient_clipping_norm = 1.25\n",
        "batch_size = 64\n",
        "n_epoch = 30\n",
        "\n",
        "def exponent_neg_manhattan_distance(left, right):\n",
        "    ''' Helper function for the similarity estimate of the LSTMs outputs'''\n",
        "    return K.exp(-K.sum(K.abs(left-right), axis=1, keepdims=True))\n",
        "\n",
        "# The visible layer\n",
        "left_input = Input(shape=(max_seq_length,), dtype='int32')\n",
        "right_input = Input(shape=(max_seq_length,), dtype='int32')\n",
        "\n",
        "embedding_layer = Embedding(len(embeddings), embedding_dim, weights=[embeddings], input_length=max_seq_length, trainable=False)\n",
        "\n",
        "# Embedded version of the inputs\n",
        "encoded_left = embedding_layer(left_input)\n",
        "encoded_right = embedding_layer(right_input)\n",
        "\n",
        "# Since this is a siamese network, both sides share the same LSTM\n",
        "shared_lstm = LSTM(n_hidden)\n",
        "\n",
        "left_output = shared_lstm(encoded_left)\n",
        "right_output = shared_lstm(encoded_right)\n",
        "\n",
        "# Calculates the distance as defined by the MaLSTM model\n",
        "malstm_distance = Lambda(function=lambda x: exponent_neg_manhattan_distance(x[0], x[1]),output_shape=lambda x: (x[0][0], 1))([left_output, right_output])\n",
        "\n",
        "# Pack it all up into a model\n",
        "malstm = Model([left_input, right_input], [malstm_distance])\n",
        "\n",
        "# Adadelta optimizer, with gradient clipping by norm\n",
        "optimizer = Adam(clipnorm=gradient_clipping_norm)\n",
        "\n",
        "malstm.compile(loss='mean_squared_error', optimizer=optimizer, metrics=['accuracy'])\n",
        "\n",
        "# Start training\n",
        "training_start_time = time()\n",
        "\n",
        "malstm_trained = malstm.fit([X_train['left'], X_train['right']], Y_train, batch_size=batch_size, epochs=n_epoch,\n",
        "                            validation_data=([X_validation['left'], X_validation['right']], Y_validation))"
      ]
    },
    {
      "cell_type": "code",
      "execution_count": 21,
      "id": "dd712985-c0a3-4ca1-9090-d1b619000a03",
      "metadata": {
        "id": "dd712985-c0a3-4ca1-9090-d1b619000a03",
        "outputId": "c7013029-5bdb-47e4-b038-a7f6110f0498",
        "colab": {
          "base_uri": "https://localhost:8080/"
        }
      },
      "outputs": [
        {
          "output_type": "stream",
          "name": "stdout",
          "text": [
            "Training time finished.\n",
            "30 epochs in 1:04:29.014201\n"
          ]
        }
      ],
      "source": [
        "print(\"Training time finished.\\n{} epochs in {}\".format(n_epoch, datetime.timedelta(seconds=time()-training_start_time)))"
      ]
    },
    {
      "cell_type": "code",
      "execution_count": 22,
      "id": "8ff0b13c-30a7-4cf3-80af-52affb8a9859",
      "metadata": {
        "id": "8ff0b13c-30a7-4cf3-80af-52affb8a9859",
        "outputId": "31bf3416-a4a9-480b-8d38-533379c1e988",
        "colab": {
          "base_uri": "https://localhost:8080/",
          "height": 573
        }
      },
      "outputs": [
        {
          "output_type": "display_data",
          "data": {
            "text/plain": [
              "<Figure size 432x288 with 1 Axes>"
            ],
            "image/png": "[encoded data removed]"
          },
          "metadata": {
            "needs_background": "light"
          }
        },
        {
          "output_type": "display_data",
          "data": {
            "text/plain": [
              "<Figure size 432x288 with 1 Axes>"
            ],
            "image/png": "[encoded data removed]"
          },
          "metadata": {
            "needs_background": "light"
          }
        }
      ],
      "source": [
        "# Plot accuracy\n",
        "plt.plot(malstm_trained.history['accuracy'])\n",
        "plt.plot(malstm_trained.history['val_accuracy'])\n",
        "plt.title('Model Accuracy')\n",
        "plt.ylabel('Accuracy')\n",
        "plt.xlabel('Epoch')\n",
        "plt.legend(['Train', 'Validation'], loc='upper left')\n",
        "plt.show()\n",
        "\n",
        "# Plot loss\n",
        "plt.plot(malstm_trained.history['loss'])\n",
        "plt.plot(malstm_trained.history['val_loss'])\n",
        "plt.title('Model Loss')\n",
        "plt.ylabel('Loss')\n",
        "plt.xlabel('Epoch')\n",
        "plt.legend(['Train', 'Validation'], loc='upper right')\n",
        "plt.show()"
      ]
    },
    {
      "cell_type": "code",
      "execution_count": 23,
      "id": "fe8f023e-730c-480c-87ae-a07755ca95c5",
      "metadata": {
        "id": "fe8f023e-730c-480c-87ae-a07755ca95c5"
      },
      "outputs": [],
      "source": [
        "malstm.save('MALSTM_wikinews.h5')"
      ]
    },
    {
      "cell_type": "code",
      "source": [
        ""
      ],
      "metadata": {
        "id": "8u87jVdsNsHK"
      },
      "id": "8u87jVdsNsHK",
      "execution_count": null,
      "outputs": []
    }
  ],
  "metadata": {
    "kernelspec": {
      "display_name": "general",
      "language": "python",
      "name": "general"
    },
    "language_info": {
      "codemirror_mode": {
        "name": "ipython",
        "version": 3
      },
      "file_extension": ".py",
      "mimetype": "text/x-python",
      "name": "python",
      "nbconvert_exporter": "python",
      "pygments_lexer": "ipython3",
      "version": "3.8.5"
    },
    "colab": {
      "name": "Quora_Question_Pairs_BASIC_EDA_70 acc.ipynb",
      "provenance": [],
      "collapsed_sections": []
    },
    "accelerator": "GPU"
  },
  "nbformat": 4,
  "nbformat_minor": 5
}