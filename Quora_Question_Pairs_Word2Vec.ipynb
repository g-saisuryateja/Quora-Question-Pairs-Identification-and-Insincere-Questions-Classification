{
  "cells": [
    {
      "cell_type": "code",
      "source": [
        "pip install --upgrade gensim"
      ],
      "metadata": {
        "colab": {
          "base_uri": "https://localhost:8080/"
        },
        "id": "PigIoZKjoAfb",
        "outputId": "b701f75d-652b-44cd-9592-f378cbddc35f"
      },
      "id": "PigIoZKjoAfb",
      "execution_count": 6,
      "outputs": [
        {
          "output_type": "stream",
          "name": "stdout",
          "text": [
            "Looking in indexes: https://pypi.org/simple, https://us-python.pkg.dev/colab-wheels/public/simple/\n",
            "Requirement already satisfied: gensim in /usr/local/lib/python3.7/dist-packages (4.2.0)\n",
            "Requirement already satisfied: scipy>=0.18.1 in /usr/local/lib/python3.7/dist-packages (from gensim) (1.4.1)\n",
            "Requirement already satisfied: smart-open>=1.8.1 in /usr/local/lib/python3.7/dist-packages (from gensim) (6.0.0)\n",
            "Requirement already satisfied: numpy>=1.17.0 in /usr/local/lib/python3.7/dist-packages (from gensim) (1.21.6)\n"
          ]
        }
      ]
    },
    {
      "cell_type": "code",
      "execution_count": 7,
      "id": "cb34d504-6472-4eee-bce6-661106a72f1f",
      "metadata": {
        "id": "cb34d504-6472-4eee-bce6-661106a72f1f"
      },
      "outputs": [],
      "source": [
        "from time import time\n",
        "import pandas as pd\n",
        "import numpy as np\n",
        "from gensim.models import KeyedVectors\n",
        "import re\n",
        "from nltk.corpus import stopwords\n",
        "from sklearn.model_selection import train_test_split\n",
        "import matplotlib.pyplot as plt\n",
        "import seaborn as sns\n",
        "\n",
        "import itertools\n",
        "import datetime\n",
        "\n",
        "from keras.preprocessing.sequence import pad_sequences\n",
        "from keras.models import Model\n",
        "from keras.layers import Input, Embedding, LSTM, Lambda\n",
        "import keras.backend as K\n",
        "from tensorflow.keras.optimizers import Adam, Adadelta\n",
        "from keras.callbacks import ModelCheckpoint"
      ]
    },
    {
      "cell_type": "code",
      "source": [
        "from google.colab import drive\n",
        "drive.mount('/content/drive')"
      ],
      "metadata": {
        "colab": {
          "base_uri": "https://localhost:8080/"
        },
        "id": "hjBY7ak8jpj4",
        "outputId": "68bafeb0-dcab-49dc-9914-6cad0efb4544"
      },
      "id": "hjBY7ak8jpj4",
      "execution_count": 8,
      "outputs": [
        {
          "output_type": "stream",
          "name": "stdout",
          "text": [
            "Drive already mounted at /content/drive; to attempt to forcibly remount, call drive.mount(\"/content/drive\", force_remount=True).\n"
          ]
        }
      ]
    },
    {
      "cell_type": "code",
      "execution_count": 11,
      "id": "63d17371-d97f-402b-9594-b6ab6a140585",
      "metadata": {
        "id": "63d17371-d97f-402b-9594-b6ab6a140585"
      },
      "outputs": [],
      "source": [
        "# File paths\n",
        "TRAIN_CSV = '/content/drive/My Drive/NLP_word/QP/train.csv'\n",
        "TEST_CSV = '/content/drive/My Drive/NLP_word/QP/test.csv'\n",
        "EMBEDDING_FILE = '/content/drive/My Drive/NLP_word/GoogleNews-vectors-negative300.bin'\n",
        "MODEL_SAVING_DIR = '/content/drive/My Drive/NLP/'"
      ]
    },
    {
      "cell_type": "code",
      "execution_count": 12,
      "id": "2d788ef5-294c-4154-b7af-235a3de77333",
      "metadata": {
        "colab": {
          "base_uri": "https://localhost:8080/"
        },
        "id": "2d788ef5-294c-4154-b7af-235a3de77333",
        "outputId": "5fcadd07-34f1-4d1d-9f3b-30f37ab2a47c"
      },
      "outputs": [
        {
          "output_type": "stream",
          "name": "stdout",
          "text": [
            "[nltk_data] Downloading package stopwords to /root/nltk_data...\n",
            "[nltk_data]   Package stopwords is already up-to-date!\n"
          ]
        }
      ],
      "source": [
        "# Load training and test set\n",
        "train_df = pd.read_csv(TRAIN_CSV)\n",
        "test_df = pd.read_csv(TEST_CSV)\n",
        "import nltk\n",
        "nltk.download('stopwords')\n",
        "stops = set(stopwords.words('english'))\n",
        "\n",
        "def text_to_word_list(text):\n",
        "    ''' Pre process and convert texts to a list of words '''\n",
        "    text = str(text)\n",
        "    text = text.lower()\n",
        "\n",
        "    # Clean the text\n",
        "    text = re.sub(r\"[^A-Za-z0-9^,!.\\/'+-=]\", \" \", text)\n",
        "    text = re.sub(r\"what's\", \"what is \", text)\n",
        "    text = re.sub(r\"\\'s\", \" \", text)\n",
        "    text = re.sub(r\"\\'ve\", \" have \", text)\n",
        "    text = re.sub(r\"can't\", \"cannot \", text)\n",
        "    text = re.sub(r\"n't\", \" not \", text)\n",
        "    text = re.sub(r\"i'm\", \"i am \", text)\n",
        "    text = re.sub(r\"\\'re\", \" are \", text)\n",
        "    text = re.sub(r\"\\'d\", \" would \", text)\n",
        "    text = re.sub(r\"\\'ll\", \" will \", text)\n",
        "    text = re.sub(r\",\", \" \", text)\n",
        "    text = re.sub(r\"\\.\", \" \", text)\n",
        "    text = re.sub(r\"!\", \" ! \", text)\n",
        "    text = re.sub(r\"\\/\", \" \", text)\n",
        "    text = re.sub(r\"\\^\", \" ^ \", text)\n",
        "    text = re.sub(r\"\\+\", \" + \", text)\n",
        "    text = re.sub(r\"\\-\", \" - \", text)\n",
        "    text = re.sub(r\"\\=\", \" = \", text)\n",
        "    text = re.sub(r\"'\", \" \", text)\n",
        "    text = re.sub(r\"(\\d+)(k)\", r\"\\g<1>000\", text)\n",
        "    text = re.sub(r\":\", \" : \", text)\n",
        "    text = re.sub(r\" e g \", \" eg \", text)\n",
        "    text = re.sub(r\" b g \", \" bg \", text)\n",
        "    text = re.sub(r\" u s \", \" american \", text)\n",
        "    text = re.sub(r\"\\0s\", \"0\", text)\n",
        "    text = re.sub(r\" 9 11 \", \"911\", text)\n",
        "    text = re.sub(r\"e - mail\", \"email\", text)\n",
        "    text = re.sub(r\"j k\", \"jk\", text)\n",
        "    text = re.sub(r\"\\s{2,}\", \" \", text)\n",
        "\n",
        "    text = text.split()\n",
        "    return text\n",
        "\n",
        "# Prepare embedding\n",
        "vocabulary = dict()\n",
        "inverse_vocabulary = ['<unk>']  # '<unk>' will never be used, it is only a placeholder for the [0, 0, ....0] embedding\n",
        "word2vec = KeyedVectors.load_word2vec_format(EMBEDDING_FILE, binary=True)\n",
        "\n",
        "questions_cols = ['question1', 'question2']\n",
        "\n",
        "# Iterate over the questions only of both training and test datasets\n",
        "for dataset in [train_df, test_df]:\n",
        "    for index, row in dataset.iterrows():\n",
        "\n",
        "        # Iterate through the text of both questions of the row\n",
        "        for question in questions_cols:\n",
        "\n",
        "            q2n = []  # q2n -> question numbers representation\n",
        "            for word in text_to_word_list(row[question]):\n",
        "\n",
        "                # Check for unwanted words\n",
        "                if word in stops and word not in word2vec.key_to_index:\n",
        "                    continue\n",
        "\n",
        "                if word not in vocabulary:\n",
        "                    vocabulary[word] = len(inverse_vocabulary)\n",
        "                    q2n.append(len(inverse_vocabulary))\n",
        "                    inverse_vocabulary.append(word)\n",
        "                else:\n",
        "                    q2n.append(vocabulary[word])\n",
        "                    # Replace questions as word to question as number representation\n",
        "            #dataset.set_value(index, question, q2n)\n",
        "            dataset.at[index, question] = q2n\n",
        "            \n",
        "embedding_dim = 300\n",
        "embeddings = 1 * np.random.randn(len(vocabulary) + 1, embedding_dim)  # This will be the embedding matrix\n",
        "embeddings[0] = 0  # So that the padding will be ignored\n",
        "\n",
        "# Build the embedding matrix\n",
        "for word, index in vocabulary.items():\n",
        "    if word in word2vec.key_to_index:\n",
        "        embeddings[index] = word2vec.get_vector(word)\n",
        "\n",
        "del word2vec\n",
        "\n"
      ]
    },
    {
      "cell_type": "code",
      "execution_count": 13,
      "id": "0a8dd460-5849-43cd-8571-38f24cc08b47",
      "metadata": {
        "id": "0a8dd460-5849-43cd-8571-38f24cc08b47"
      },
      "outputs": [],
      "source": [
        "max_seq_length = max(train_df.question1.map(lambda x: len(x)).max(),\n",
        "                     train_df.question2.map(lambda x: len(x)).max(),\n",
        "                     test_df.question1.map(lambda x: len(x)).max(),\n",
        "                     test_df.question2.map(lambda x: len(x)).max())\n",
        "\n",
        "# Split to train validation\n",
        "validation_size = 40000\n",
        "training_size = len(train_df) - validation_size\n",
        "\n",
        "X = train_df[questions_cols]\n",
        "Y = train_df['is_duplicate']\n",
        "\n",
        "X_train, X_validation, Y_train, Y_validation = train_test_split(X, Y, test_size=validation_size)\n",
        "\n",
        "# Split to dicts\n",
        "X_train = {'left': X_train.question1, 'right': X_train.question2}\n",
        "X_validation = {'left': X_validation.question1, 'right': X_validation.question2}\n",
        "X_test = {'left': test_df.question1, 'right': test_df.question2}\n",
        "\n",
        "# Convert labels to their numpy representations\n",
        "Y_train = Y_train.values\n",
        "Y_validation = Y_validation.values\n",
        "\n",
        "# Zero padding\n",
        "for dataset, side in itertools.product([X_train, X_validation], ['left', 'right']):\n",
        "    dataset[side] = pad_sequences(dataset[side], maxlen=max_seq_length)\n",
        "\n",
        "# Make sure everything is ok\n",
        "assert X_train['left'].shape == X_train['right'].shape\n",
        "assert len(X_train['left']) == len(Y_train)"
      ]
    },
    {
      "cell_type": "code",
      "source": [
        "import tensorflow as tf"
      ],
      "metadata": {
        "id": "gYCSUD7usRlz"
      },
      "id": "gYCSUD7usRlz",
      "execution_count": 14,
      "outputs": []
    },
    {
      "cell_type": "code",
      "execution_count": 15,
      "id": "27a4abf7-161d-49d7-acc1-68fed7baa54f",
      "metadata": {
        "id": "27a4abf7-161d-49d7-acc1-68fed7baa54f",
        "outputId": "50ea2df4-fa4f-4c9b-d729-a436b22d83d1",
        "colab": {
          "base_uri": "https://localhost:8080/"
        }
      },
      "outputs": [
        {
          "output_type": "stream",
          "name": "stdout",
          "text": [
            "Epoch 1/30\n",
            "5693/5693 [==============================] - 129s 21ms/step - loss: 0.1614 - accuracy: 0.7699 - precision: 0.7423 - recall: 0.5772 - val_loss: 0.1490 - val_accuracy: 0.7883 - val_precision: 0.7751 - val_recall: 0.6001\n",
            "Epoch 2/30\n",
            "5693/5693 [==============================] - 121s 21ms/step - loss: 0.1418 - accuracy: 0.8035 - precision: 0.7752 - recall: 0.6590 - val_loss: 0.1402 - val_accuracy: 0.8041 - val_precision: 0.7811 - val_recall: 0.6516\n",
            "Epoch 3/30\n",
            "5693/5693 [==============================] - 120s 21ms/step - loss: 0.1343 - accuracy: 0.8155 - precision: 0.7886 - recall: 0.6836 - val_loss: 0.1363 - val_accuracy: 0.8141 - val_precision: 0.7727 - val_recall: 0.7026\n",
            "Epoch 4/30\n",
            "5693/5693 [==============================] - 120s 21ms/step - loss: 0.1294 - accuracy: 0.8234 - precision: 0.7979 - recall: 0.6987 - val_loss: 0.1332 - val_accuracy: 0.8153 - val_precision: 0.8014 - val_recall: 0.6637\n",
            "Epoch 5/30\n",
            "5693/5693 [==============================] - 121s 21ms/step - loss: 0.1257 - accuracy: 0.8293 - precision: 0.8055 - recall: 0.7090 - val_loss: 0.1308 - val_accuracy: 0.8189 - val_precision: 0.7958 - val_recall: 0.6848\n",
            "Epoch 6/30\n",
            "5693/5693 [==============================] - 120s 21ms/step - loss: 0.1228 - accuracy: 0.8348 - precision: 0.8125 - recall: 0.7184 - val_loss: 0.1297 - val_accuracy: 0.8202 - val_precision: 0.8000 - val_recall: 0.6832\n",
            "Epoch 7/30\n",
            "5693/5693 [==============================] - 121s 21ms/step - loss: 0.1203 - accuracy: 0.8387 - precision: 0.8168 - recall: 0.7260 - val_loss: 0.1280 - val_accuracy: 0.8230 - val_precision: 0.8070 - val_recall: 0.6837\n",
            "Epoch 8/30\n",
            "5693/5693 [==============================] - 121s 21ms/step - loss: 0.1181 - accuracy: 0.8421 - precision: 0.8212 - recall: 0.7317 - val_loss: 0.1276 - val_accuracy: 0.8263 - val_precision: 0.7909 - val_recall: 0.7194\n",
            "Epoch 9/30\n",
            "5693/5693 [==============================] - 121s 21ms/step - loss: 0.1162 - accuracy: 0.8453 - precision: 0.8249 - recall: 0.7375 - val_loss: 0.1271 - val_accuracy: 0.8298 - val_precision: 0.7811 - val_recall: 0.7481\n",
            "Epoch 10/30\n",
            "5693/5693 [==============================] - 121s 21ms/step - loss: 0.1146 - accuracy: 0.8481 - precision: 0.8283 - recall: 0.7424 - val_loss: 0.1253 - val_accuracy: 0.8286 - val_precision: 0.8060 - val_recall: 0.7050\n",
            "Epoch 11/30\n",
            "5693/5693 [==============================] - 121s 21ms/step - loss: 0.1131 - accuracy: 0.8504 - precision: 0.8310 - recall: 0.7467 - val_loss: 0.1248 - val_accuracy: 0.8315 - val_precision: 0.8026 - val_recall: 0.7203\n",
            "Epoch 12/30\n",
            "5693/5693 [==============================] - 120s 21ms/step - loss: 0.1116 - accuracy: 0.8529 - precision: 0.8336 - recall: 0.7516 - val_loss: 0.1245 - val_accuracy: 0.8300 - val_precision: 0.7943 - val_recall: 0.7277\n",
            "Epoch 13/30\n",
            "5693/5693 [==============================] - 122s 21ms/step - loss: 0.1104 - accuracy: 0.8547 - precision: 0.8356 - recall: 0.7550 - val_loss: 0.1247 - val_accuracy: 0.8303 - val_precision: 0.7907 - val_recall: 0.7341\n",
            "Epoch 14/30\n",
            "5693/5693 [==============================] - 120s 21ms/step - loss: 0.1094 - accuracy: 0.8568 - precision: 0.8389 - recall: 0.7578 - val_loss: 0.1234 - val_accuracy: 0.8322 - val_precision: 0.8099 - val_recall: 0.7121\n",
            "Epoch 15/30\n",
            "5693/5693 [==============================] - 121s 21ms/step - loss: 0.1082 - accuracy: 0.8589 - precision: 0.8417 - recall: 0.7611 - val_loss: 0.1238 - val_accuracy: 0.8311 - val_precision: 0.8100 - val_recall: 0.7082\n",
            "Epoch 16/30\n",
            "5693/5693 [==============================] - 121s 21ms/step - loss: 0.1071 - accuracy: 0.8606 - precision: 0.8424 - recall: 0.7657 - val_loss: 0.1237 - val_accuracy: 0.8316 - val_precision: 0.8154 - val_recall: 0.7023\n",
            "Epoch 17/30\n",
            "5693/5693 [==============================] - 120s 21ms/step - loss: 0.1062 - accuracy: 0.8619 - precision: 0.8438 - recall: 0.7682 - val_loss: 0.1228 - val_accuracy: 0.8346 - val_precision: 0.8075 - val_recall: 0.7241\n",
            "Epoch 18/30\n",
            "5693/5693 [==============================] - 121s 21ms/step - loss: 0.1053 - accuracy: 0.8632 - precision: 0.8455 - recall: 0.7702 - val_loss: 0.1227 - val_accuracy: 0.8321 - val_precision: 0.8133 - val_recall: 0.7072\n",
            "Epoch 19/30\n",
            "5693/5693 [==============================] - 120s 21ms/step - loss: 0.1044 - accuracy: 0.8654 - precision: 0.8487 - recall: 0.7733 - val_loss: 0.1227 - val_accuracy: 0.8336 - val_precision: 0.8120 - val_recall: 0.7142\n",
            "Epoch 20/30\n",
            "5693/5693 [==============================] - 121s 21ms/step - loss: 0.1036 - accuracy: 0.8665 - precision: 0.8495 - recall: 0.7759 - val_loss: 0.1225 - val_accuracy: 0.8334 - val_precision: 0.8102 - val_recall: 0.7161\n",
            "Epoch 21/30\n",
            "5693/5693 [==============================] - 121s 21ms/step - loss: 0.1029 - accuracy: 0.8682 - precision: 0.8517 - recall: 0.7785 - val_loss: 0.1225 - val_accuracy: 0.8350 - val_precision: 0.8149 - val_recall: 0.7152\n",
            "Epoch 22/30\n",
            "5693/5693 [==============================] - 120s 21ms/step - loss: 0.1022 - accuracy: 0.8690 - precision: 0.8523 - recall: 0.7805 - val_loss: 0.1219 - val_accuracy: 0.8359 - val_precision: 0.8064 - val_recall: 0.7303\n",
            "Epoch 23/30\n",
            "5693/5693 [==============================] - 121s 21ms/step - loss: 0.1015 - accuracy: 0.8702 - precision: 0.8538 - recall: 0.7824 - val_loss: 0.1224 - val_accuracy: 0.8344 - val_precision: 0.8115 - val_recall: 0.7176\n",
            "Epoch 24/30\n",
            "5693/5693 [==============================] - 121s 21ms/step - loss: 0.1009 - accuracy: 0.8712 - precision: 0.8556 - recall: 0.7835 - val_loss: 0.1226 - val_accuracy: 0.8350 - val_precision: 0.8036 - val_recall: 0.7312\n",
            "Epoch 25/30\n",
            "5693/5693 [==============================] - 120s 21ms/step - loss: 0.1001 - accuracy: 0.8721 - precision: 0.8559 - recall: 0.7858 - val_loss: 0.1217 - val_accuracy: 0.8358 - val_precision: 0.8043 - val_recall: 0.7333\n",
            "Epoch 26/30\n",
            "5693/5693 [==============================] - 122s 21ms/step - loss: 0.0996 - accuracy: 0.8736 - precision: 0.8580 - recall: 0.7882 - val_loss: 0.1217 - val_accuracy: 0.8355 - val_precision: 0.8095 - val_recall: 0.7243\n",
            "Epoch 27/30\n",
            "5693/5693 [==============================] - 121s 21ms/step - loss: 0.1121 - accuracy: 0.8523 - precision: 0.8323 - recall: 0.7515 - val_loss: 0.1268 - val_accuracy: 0.8282 - val_precision: 0.8120 - val_recall: 0.6952\n",
            "Epoch 28/30\n",
            "5693/5693 [==============================] - 121s 21ms/step - loss: 0.1054 - accuracy: 0.8631 - precision: 0.8471 - recall: 0.7678 - val_loss: 0.1244 - val_accuracy: 0.8306 - val_precision: 0.7949 - val_recall: 0.7287\n",
            "Epoch 29/30\n",
            "5693/5693 [==============================] - 122s 21ms/step - loss: 0.1022 - accuracy: 0.8684 - precision: 0.8526 - recall: 0.7782 - val_loss: 0.1234 - val_accuracy: 0.8335 - val_precision: 0.8112 - val_recall: 0.7151\n",
            "Epoch 30/30\n",
            "5693/5693 [==============================] - 121s 21ms/step - loss: 0.1001 - accuracy: 0.8723 - precision: 0.8573 - recall: 0.7848 - val_loss: 0.1234 - val_accuracy: 0.8343 - val_precision: 0.8180 - val_recall: 0.7085\n"
          ]
        }
      ],
      "source": [
        "# Model variables\n",
        "n_hidden = 50\n",
        "gradient_clipping_norm = 1.25\n",
        "batch_size = 64\n",
        "n_epoch = 30\n",
        "\n",
        "def exponent_neg_manhattan_distance(left, right):\n",
        "    ''' Helper function for the similarity estimate of the LSTMs outputs'''\n",
        "    return K.exp(-K.sum(K.abs(left-right), axis=1, keepdims=True))\n",
        "\n",
        "# The visible layer\n",
        "left_input = Input(shape=(max_seq_length,), dtype='int32')\n",
        "right_input = Input(shape=(max_seq_length,), dtype='int32')\n",
        "\n",
        "embedding_layer = Embedding(len(embeddings), embedding_dim, weights=[embeddings], input_length=max_seq_length, trainable=False)\n",
        "\n",
        "# Embedded version of the inputs\n",
        "encoded_left = embedding_layer(left_input)\n",
        "encoded_right = embedding_layer(right_input)\n",
        "\n",
        "# Since this is a siamese network, both sides share the same LSTM\n",
        "shared_lstm = LSTM(n_hidden)\n",
        "\n",
        "left_output = shared_lstm(encoded_left)\n",
        "right_output = shared_lstm(encoded_right)\n",
        "\n",
        "# Calculates the distance as defined by the MaLSTM model\n",
        "malstm_distance = Lambda(function=lambda x: exponent_neg_manhattan_distance(x[0], x[1]),output_shape=lambda x: (x[0][0], 1))([left_output, right_output])\n",
        "\n",
        "# Pack it all up into a model\n",
        "malstm = Model([left_input, right_input], [malstm_distance])\n",
        "\n",
        "# Adadelta optimizer, with gradient clipping by norm\n",
        "optimizer = Adam(clipnorm=gradient_clipping_norm)\n",
        "\n",
        "malstm.compile(loss='mean_squared_error', optimizer=optimizer, metrics=['accuracy',tf.keras.metrics.Precision(),tf.keras.metrics.Recall()])\n",
        "\n",
        "# Start training\n",
        "training_start_time = time()\n",
        "\n",
        "malstm_trained = malstm.fit([X_train['left'], X_train['right']], Y_train, batch_size=batch_size, epochs=n_epoch,\n",
        "                            validation_data=([X_validation['left'], X_validation['right']], Y_validation))"
      ]
    },
    {
      "cell_type": "code",
      "execution_count": 16,
      "id": "dd712985-c0a3-4ca1-9090-d1b619000a03",
      "metadata": {
        "id": "dd712985-c0a3-4ca1-9090-d1b619000a03",
        "outputId": "362b5e5d-bb3f-46a3-c711-ca1fcb059044",
        "colab": {
          "base_uri": "https://localhost:8080/"
        }
      },
      "outputs": [
        {
          "output_type": "stream",
          "name": "stdout",
          "text": [
            "Training time finished.\n",
            "30 epochs in 1:01:43.300652\n"
          ]
        }
      ],
      "source": [
        "print(\"Training time finished.\\n{} epochs in {}\".format(n_epoch, datetime.timedelta(seconds=time()-training_start_time)))"
      ]
    },
    {
      "cell_type": "code",
      "execution_count": 17,
      "id": "8ff0b13c-30a7-4cf3-80af-52affb8a9859",
      "metadata": {
        "id": "8ff0b13c-30a7-4cf3-80af-52affb8a9859",
        "outputId": "99b5f7ce-d7dd-4fa5-92e6-85b7bc3a5544",
        "colab": {
          "base_uri": "https://localhost:8080/",
          "height": 573
        }
      },
      "outputs": [
        {
          "output_type": "display_data",
          "data": {
            "text/plain": [
              "<Figure size 432x288 with 1 Axes>"
            ],
            "image/png": "[encoded data removed]"
          },
          "metadata": {
            "needs_background": "light"
          }
        },
        {
          "output_type": "display_data",
          "data": {
            "text/plain": [
              "<Figure size 432x288 with 1 Axes>"
            ],
            "image/png": "[encoded data removed]"
          },
          "metadata": {
            "needs_background": "light"
          }
        }
      ],
      "source": [
        "# Plot accuracy\n",
        "plt.plot(malstm_trained.history['accuracy'])\n",
        "plt.plot(malstm_trained.history['val_accuracy'])\n",
        "plt.title('Model Accuracy')\n",
        "plt.ylabel('Accuracy')\n",
        "plt.xlabel('Epoch')\n",
        "plt.legend(['Train', 'Validation'], loc='upper left')\n",
        "plt.show()\n",
        "\n",
        "# Plot loss\n",
        "plt.plot(malstm_trained.history['loss'])\n",
        "plt.plot(malstm_trained.history['val_loss'])\n",
        "plt.title('Model Loss')\n",
        "plt.ylabel('Loss')\n",
        "plt.xlabel('Epoch')\n",
        "plt.legend(['Train', 'Validation'], loc='upper right')\n",
        "plt.show()"
      ]
    },
    {
      "cell_type": "code",
      "execution_count": null,
      "id": "fe8f023e-730c-480c-87ae-a07755ca95c5",
      "metadata": {
        "id": "fe8f023e-730c-480c-87ae-a07755ca95c5"
      },
      "outputs": [],
      "source": [
        "malstm.save('MALSTM_ADAM.h5')"
      ]
    },
    {
      "cell_type": "code",
      "source": [
        "malstm.save_weights('drive/My Drive/weights_all_pairs_word2vec/checkpoint')"
      ],
      "metadata": {
        "id": "8u87jVdsNsHK"
      },
      "id": "8u87jVdsNsHK",
      "execution_count": 18,
      "outputs": []
    }
  ],
  "metadata": {
    "kernelspec": {
      "display_name": "general",
      "language": "python",
      "name": "general"
    },
    "language_info": {
      "codemirror_mode": {
        "name": "ipython",
        "version": 3
      },
      "file_extension": ".py",
      "mimetype": "text/x-python",
      "name": "python",
      "nbconvert_exporter": "python",
      "pygments_lexer": "ipython3",
      "version": "3.8.5"
    },
    "colab": {
      "name": "Quora_Question_Pairs_Word2vec.ipynb",
      "provenance": [],
      "collapsed_sections": []
    },
    "accelerator": "GPU"
  },
  "nbformat": 4,
  "nbformat_minor": 5
}