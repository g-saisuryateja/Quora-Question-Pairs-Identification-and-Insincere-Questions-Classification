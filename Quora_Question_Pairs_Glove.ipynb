{
  "cells": [
    {
      "cell_type": "code",
      "source": [
        "pip install --upgrade gensim"
      ],
      "metadata": {
        "colab": {
          "base_uri": "https://localhost:8080/"
        },
        "id": "PigIoZKjoAfb",
        "outputId": "963df738-96be-4796-b7f0-db47860e8c47"
      },
      "id": "PigIoZKjoAfb",
      "execution_count": 1,
      "outputs": [
        {
          "output_type": "stream",
          "name": "stdout",
          "text": [
            "Looking in indexes: https://pypi.org/simple, https://us-python.pkg.dev/colab-wheels/public/simple/\n",
            "Requirement already satisfied: gensim in /usr/local/lib/python3.7/dist-packages (3.6.0)\n",
            "Collecting gensim\n",
            "  Downloading gensim-4.2.0-cp37-cp37m-manylinux_2_12_x86_64.manylinux2010_x86_64.whl (24.1 MB)\n",
            "\u001b[K     |████████████████████████████████| 24.1 MB 63.2 MB/s \n",
            "\u001b[?25hRequirement already satisfied: numpy>=1.17.0 in /usr/local/lib/python3.7/dist-packages (from gensim) (1.21.6)\n",
            "Requirement already satisfied: smart-open>=1.8.1 in /usr/local/lib/python3.7/dist-packages (from gensim) (6.0.0)\n",
            "Requirement already satisfied: scipy>=0.18.1 in /usr/local/lib/python3.7/dist-packages (from gensim) (1.4.1)\n",
            "Installing collected packages: gensim\n",
            "  Attempting uninstall: gensim\n",
            "    Found existing installation: gensim 3.6.0\n",
            "    Uninstalling gensim-3.6.0:\n",
            "      Successfully uninstalled gensim-3.6.0\n",
            "Successfully installed gensim-4.2.0\n"
          ]
        }
      ]
    },
    {
      "cell_type": "code",
      "execution_count": 2,
      "id": "cb34d504-6472-4eee-bce6-661106a72f1f",
      "metadata": {
        "id": "cb34d504-6472-4eee-bce6-661106a72f1f"
      },
      "outputs": [],
      "source": [
        "from time import time\n",
        "import pandas as pd\n",
        "import numpy as np\n",
        "from gensim.models import KeyedVectors\n",
        "import re\n",
        "from nltk.corpus import stopwords\n",
        "from sklearn.model_selection import train_test_split\n",
        "import matplotlib.pyplot as plt\n",
        "import seaborn as sns\n",
        "\n",
        "import itertools\n",
        "import datetime\n",
        "\n",
        "from keras.preprocessing.sequence import pad_sequences\n",
        "from keras.models import Model\n",
        "from keras.layers import Input, Embedding, LSTM, Lambda\n",
        "import keras.backend as K\n",
        "from tensorflow.keras.optimizers import Adam, Adadelta\n",
        "from keras.callbacks import ModelCheckpoint"
      ]
    },
    {
      "cell_type": "code",
      "source": [
        "from google.colab import drive\n",
        "drive.mount('/content/drive')"
      ],
      "metadata": {
        "colab": {
          "base_uri": "https://localhost:8080/"
        },
        "id": "hjBY7ak8jpj4",
        "outputId": "4d7db291-cdc4-49d6-c0b3-4786b40b6933"
      },
      "id": "hjBY7ak8jpj4",
      "execution_count": 3,
      "outputs": [
        {
          "output_type": "stream",
          "name": "stdout",
          "text": [
            "Mounted at /content/drive\n"
          ]
        }
      ]
    },
    {
      "cell_type": "code",
      "execution_count": 6,
      "id": "63d17371-d97f-402b-9594-b6ab6a140585",
      "metadata": {
        "id": "63d17371-d97f-402b-9594-b6ab6a140585"
      },
      "outputs": [],
      "source": [
        "# File paths\n",
        "TRAIN_CSV = '/content/drive/My Drive/NLP/QP/train.csv'\n",
        "TEST_CSV = '/content/drive/My Drive/NLP/QP/test.csv'\n",
        "EMBEDDING_FILE = '/content/drive/My Drive/NLP/glove.840B.300d.txt'\n",
        "MODEL_SAVING_DIR = '/content/drive/My Drive/NLP/'"
      ]
    },
    {
      "cell_type": "code",
      "execution_count": 8,
      "id": "2d788ef5-294c-4154-b7af-235a3de77333",
      "metadata": {
        "colab": {
          "base_uri": "https://localhost:8080/"
        },
        "id": "2d788ef5-294c-4154-b7af-235a3de77333",
        "outputId": "a7b95480-9f31-426f-915d-6a96c09adadd"
      },
      "outputs": [
        {
          "output_type": "stream",
          "name": "stdout",
          "text": [
            "[nltk_data] Downloading package stopwords to /root/nltk_data...\n",
            "[nltk_data]   Unzipping corpora/stopwords.zip.\n"
          ]
        }
      ],
      "source": [
        "# Load training and test set\n",
        "train_df = pd.read_csv(TRAIN_CSV)\n",
        "test_df = pd.read_csv(TEST_CSV)\n",
        "import nltk\n",
        "nltk.download('stopwords')\n",
        "stops = set(stopwords.words('english'))\n",
        "\n",
        "def text_to_word_list(text):\n",
        "    ''' Pre process and convert texts to a list of words '''\n",
        "    text = str(text)\n",
        "    text = text.lower()\n",
        "\n",
        "    # Clean the text\n",
        "    text = re.sub(r\"[^A-Za-z0-9^,!.\\/'+-=]\", \" \", text)\n",
        "    text = re.sub(r\"what's\", \"what is \", text)\n",
        "    text = re.sub(r\"\\'s\", \" \", text)\n",
        "    text = re.sub(r\"\\'ve\", \" have \", text)\n",
        "    text = re.sub(r\"can't\", \"cannot \", text)\n",
        "    text = re.sub(r\"n't\", \" not \", text)\n",
        "    text = re.sub(r\"i'm\", \"i am \", text)\n",
        "    text = re.sub(r\"\\'re\", \" are \", text)\n",
        "    text = re.sub(r\"\\'d\", \" would \", text)\n",
        "    text = re.sub(r\"\\'ll\", \" will \", text)\n",
        "    text = re.sub(r\",\", \" \", text)\n",
        "    text = re.sub(r\"\\.\", \" \", text)\n",
        "    text = re.sub(r\"!\", \" ! \", text)\n",
        "    text = re.sub(r\"\\/\", \" \", text)\n",
        "    text = re.sub(r\"\\^\", \" ^ \", text)\n",
        "    text = re.sub(r\"\\+\", \" + \", text)\n",
        "    text = re.sub(r\"\\-\", \" - \", text)\n",
        "    text = re.sub(r\"\\=\", \" = \", text)\n",
        "    text = re.sub(r\"'\", \" \", text)\n",
        "    text = re.sub(r\"(\\d+)(k)\", r\"\\g<1>000\", text)\n",
        "    text = re.sub(r\":\", \" : \", text)\n",
        "    text = re.sub(r\" e g \", \" eg \", text)\n",
        "    text = re.sub(r\" b g \", \" bg \", text)\n",
        "    text = re.sub(r\" u s \", \" american \", text)\n",
        "    text = re.sub(r\"\\0s\", \"0\", text)\n",
        "    text = re.sub(r\" 9 11 \", \"911\", text)\n",
        "    text = re.sub(r\"e - mail\", \"email\", text)\n",
        "    text = re.sub(r\"j k\", \"jk\", text)\n",
        "    text = re.sub(r\"\\s{2,}\", \" \", text)\n",
        "\n",
        "    text = text.split()\n",
        "    return text\n",
        "\n",
        "# Prepare embedding\n",
        "vocabulary = dict()\n",
        "inverse_vocabulary = ['<unk>']  # '<unk>' will never be used, it is only a placeholder for the [0, 0, ....0] embedding\n",
        "word2vec = KeyedVectors.load_word2vec_format(EMBEDDING_FILE, no_header=True)\n",
        "\n",
        "questions_cols = ['question1', 'question2']\n",
        "\n",
        "# Iterate over the questions only of both training and test datasets\n",
        "for dataset in [train_df, test_df]:\n",
        "    for index, row in dataset.iterrows():\n",
        "\n",
        "        # Iterate through the text of both questions of the row\n",
        "        for question in questions_cols:\n",
        "\n",
        "            q2n = []  # q2n -> question numbers representation\n",
        "            for word in text_to_word_list(row[question]):\n",
        "\n",
        "                # Check for unwanted words\n",
        "                if word in stops and word not in word2vec.key_to_index:\n",
        "                    continue\n",
        "\n",
        "                if word not in vocabulary:\n",
        "                    vocabulary[word] = len(inverse_vocabulary)\n",
        "                    q2n.append(len(inverse_vocabulary))\n",
        "                    inverse_vocabulary.append(word)\n",
        "                else:\n",
        "                    q2n.append(vocabulary[word])\n",
        "                    # Replace questions as word to question as number representation\n",
        "            #dataset.set_value(index, question, q2n)\n",
        "            dataset.at[index, question] = q2n\n",
        "            \n",
        "embedding_dim = 300\n",
        "embeddings = 1 * np.random.randn(len(vocabulary) + 1, embedding_dim)  # This will be the embedding matrix\n",
        "embeddings[0] = 0  # So that the padding will be ignored\n",
        "\n",
        "# Build the embedding matrix\n",
        "for word, index in vocabulary.items():\n",
        "    if word in word2vec.key_to_index:\n",
        "        embeddings[index] = word2vec.get_vector(word)\n",
        "\n",
        "del word2vec\n",
        "\n"
      ]
    },
    {
      "cell_type": "code",
      "execution_count": 9,
      "id": "0a8dd460-5849-43cd-8571-38f24cc08b47",
      "metadata": {
        "id": "0a8dd460-5849-43cd-8571-38f24cc08b47"
      },
      "outputs": [],
      "source": [
        "max_seq_length = max(train_df.question1.map(lambda x: len(x)).max(),\n",
        "                     train_df.question2.map(lambda x: len(x)).max(),\n",
        "                     test_df.question1.map(lambda x: len(x)).max(),\n",
        "                     test_df.question2.map(lambda x: len(x)).max())\n",
        "\n",
        "# Split to train validation\n",
        "validation_size = 40000\n",
        "training_size = len(train_df) - validation_size\n",
        "\n",
        "X = train_df[questions_cols]\n",
        "Y = train_df['is_duplicate']\n",
        "\n",
        "X_train, X_validation, Y_train, Y_validation = train_test_split(X, Y, test_size=validation_size)\n",
        "\n",
        "# Split to dicts\n",
        "X_train = {'left': X_train.question1, 'right': X_train.question2}\n",
        "X_validation = {'left': X_validation.question1, 'right': X_validation.question2}\n",
        "X_test = {'left': test_df.question1, 'right': test_df.question2}\n",
        "\n",
        "# Convert labels to their numpy representations\n",
        "Y_train = Y_train.values\n",
        "Y_validation = Y_validation.values\n",
        "\n",
        "# Zero padding\n",
        "for dataset, side in itertools.product([X_train, X_validation], ['left', 'right']):\n",
        "    dataset[side] = pad_sequences(dataset[side], maxlen=max_seq_length)\n",
        "\n",
        "# Make sure everything is ok\n",
        "assert X_train['left'].shape == X_train['right'].shape\n",
        "assert len(X_train['left']) == len(Y_train)"
      ]
    },
    {
      "cell_type": "code",
      "source": [
        "import tensorflow as tf"
      ],
      "metadata": {
        "id": "EJK9uCeVoITY"
      },
      "id": "EJK9uCeVoITY",
      "execution_count": 17,
      "outputs": []
    },
    {
      "cell_type": "code",
      "source": [
        "# Model variables\n",
        "n_hidden = 50\n",
        "gradient_clipping_norm = 1.25\n",
        "batch_size = 64\n",
        "n_epoch = 30\n",
        "\n",
        "def exponent_neg_manhattan_distance(left, right):\n",
        "    ''' Helper function for the similarity estimate of the LSTMs outputs'''\n",
        "    return K.exp(-K.sum(K.abs(left-right), axis=1, keepdims=True))\n",
        "\n",
        "# The visible layer\n",
        "left_input = Input(shape=(max_seq_length,), dtype='int32')\n",
        "right_input = Input(shape=(max_seq_length,), dtype='int32')\n",
        "\n",
        "embedding_layer = Embedding(len(embeddings), embedding_dim, weights=[embeddings], input_length=max_seq_length, trainable=False)\n",
        "\n",
        "# Embedded version of the inputs\n",
        "encoded_left = embedding_layer(left_input)\n",
        "encoded_right = embedding_layer(right_input)\n",
        "\n",
        "# Since this is a siamese network, both sides share the same LSTM\n",
        "shared_lstm = LSTM(n_hidden)\n",
        "\n",
        "left_output = shared_lstm(encoded_left)\n",
        "right_output = shared_lstm(encoded_right)\n",
        "\n",
        "# Calculates the distance as defined by the MaLSTM model\n",
        "malstm_distance = Lambda(function=lambda x: exponent_neg_manhattan_distance(x[0], x[1]),output_shape=lambda x: (x[0][0], 1))([left_output, right_output])\n",
        "\n",
        "# Pack it all up into a model\n",
        "malstm = Model([left_input, right_input], [malstm_distance])\n",
        "\n",
        "# Adadelta optimizer, with gradient clipping by norm\n",
        "optimizer = Adadelta(clipnorm=gradient_clipping_norm)\n",
        "\n",
        "malstm.compile(loss='mean_squared_error', optimizer=optimizer, metrics=['accuracy',tf.keras.metrics.Precision(),tf.keras.metrics.Recall()])\n",
        "\n",
        "# Start training\n",
        "training_start_time = time()\n",
        "\n",
        "malstm_trained = malstm.fit([X_train['left'], X_train['right']], Y_train, batch_size=batch_size, epochs=n_epoch,\n",
        "                            validation_data=([X_validation['left'], X_validation['right']], Y_validation))"
      ],
      "metadata": {
        "colab": {
          "base_uri": "https://localhost:8080/"
        },
        "id": "TxuZPXo8HzmA",
        "outputId": "f9fd302f-97ee-4d98-c983-6345abaa5949"
      },
      "id": "TxuZPXo8HzmA",
      "execution_count": 19,
      "outputs": [
        {
          "output_type": "stream",
          "name": "stdout",
          "text": [
            "Epoch 1/30\n",
            "5693/5693 [==============================] - 140s 24ms/step - loss: 0.3084 - accuracy: 0.6371 - precision_1: 0.6074 - recall_1: 0.0457 - val_loss: 0.3071 - val_accuracy: 0.6347 - val_precision_1: 0.6082 - val_recall_1: 0.0490\n",
            "Epoch 2/30\n",
            "5693/5693 [==============================] - 132s 23ms/step - loss: 0.2991 - accuracy: 0.6400 - precision_1: 0.6248 - recall_1: 0.0603 - val_loss: 0.2978 - val_accuracy: 0.6381 - val_precision_1: 0.6307 - val_recall_1: 0.0644\n",
            "Epoch 3/30\n",
            "5693/5693 [==============================] - 132s 23ms/step - loss: 0.2901 - accuracy: 0.6435 - precision_1: 0.6399 - recall_1: 0.0772 - val_loss: 0.2890 - val_accuracy: 0.6409 - val_precision_1: 0.6338 - val_recall_1: 0.0809\n",
            "Epoch 4/30\n",
            "5693/5693 [==============================] - 132s 23ms/step - loss: 0.2817 - accuracy: 0.6475 - precision_1: 0.6508 - recall_1: 0.0960 - val_loss: 0.2807 - val_accuracy: 0.6448 - val_precision_1: 0.6431 - val_recall_1: 0.1003\n",
            "Epoch 5/30\n",
            "5693/5693 [==============================] - 132s 23ms/step - loss: 0.2738 - accuracy: 0.6518 - precision_1: 0.6591 - recall_1: 0.1165 - val_loss: 0.2731 - val_accuracy: 0.6497 - val_precision_1: 0.6540 - val_recall_1: 0.1225\n",
            "Epoch 6/30\n",
            "5693/5693 [==============================] - 131s 23ms/step - loss: 0.2667 - accuracy: 0.6560 - precision_1: 0.6624 - recall_1: 0.1379 - val_loss: 0.2661 - val_accuracy: 0.6539 - val_precision_1: 0.6576 - val_recall_1: 0.1438\n",
            "Epoch 7/30\n",
            "5693/5693 [==============================] - 133s 23ms/step - loss: 0.2602 - accuracy: 0.6602 - precision_1: 0.6642 - recall_1: 0.1593 - val_loss: 0.2598 - val_accuracy: 0.6580 - val_precision_1: 0.6593 - val_recall_1: 0.1656\n",
            "Epoch 8/30\n",
            "5693/5693 [==============================] - 133s 23ms/step - loss: 0.2544 - accuracy: 0.6641 - precision_1: 0.6644 - recall_1: 0.1809 - val_loss: 0.2543 - val_accuracy: 0.6630 - val_precision_1: 0.6652 - val_recall_1: 0.1885\n",
            "Epoch 9/30\n",
            "5693/5693 [==============================] - 133s 23ms/step - loss: 0.2493 - accuracy: 0.6683 - precision_1: 0.6654 - recall_1: 0.2027 - val_loss: 0.2493 - val_accuracy: 0.6679 - val_precision_1: 0.6704 - val_recall_1: 0.2098\n",
            "Epoch 10/30\n",
            "5693/5693 [==============================] - 131s 23ms/step - loss: 0.2447 - accuracy: 0.6721 - precision_1: 0.6652 - recall_1: 0.2240 - val_loss: 0.2449 - val_accuracy: 0.6715 - val_precision_1: 0.6695 - val_recall_1: 0.2299\n",
            "Epoch 11/30\n",
            "5693/5693 [==============================] - 133s 23ms/step - loss: 0.2406 - accuracy: 0.6754 - precision_1: 0.6634 - recall_1: 0.2439 - val_loss: 0.2410 - val_accuracy: 0.6744 - val_precision_1: 0.6665 - val_recall_1: 0.2487\n",
            "Epoch 12/30\n",
            "5693/5693 [==============================] - 132s 23ms/step - loss: 0.2370 - accuracy: 0.6787 - precision_1: 0.6630 - recall_1: 0.2625 - val_loss: 0.2375 - val_accuracy: 0.6783 - val_precision_1: 0.6682 - val_recall_1: 0.2677\n",
            "Epoch 13/30\n",
            "5693/5693 [==============================] - 132s 23ms/step - loss: 0.2337 - accuracy: 0.6819 - precision_1: 0.6627 - recall_1: 0.2804 - val_loss: 0.2343 - val_accuracy: 0.6808 - val_precision_1: 0.6657 - val_recall_1: 0.2840\n",
            "Epoch 14/30\n",
            "5693/5693 [==============================] - 135s 24ms/step - loss: 0.2308 - accuracy: 0.6843 - precision_1: 0.6613 - recall_1: 0.2955 - val_loss: 0.2314 - val_accuracy: 0.6827 - val_precision_1: 0.6627 - val_recall_1: 0.2982\n",
            "Epoch 15/30\n",
            "5693/5693 [==============================] - 133s 23ms/step - loss: 0.2281 - accuracy: 0.6865 - precision_1: 0.6605 - recall_1: 0.3090 - val_loss: 0.2287 - val_accuracy: 0.6850 - val_precision_1: 0.6620 - val_recall_1: 0.3119\n",
            "Epoch 16/30\n",
            "5693/5693 [==============================] - 132s 23ms/step - loss: 0.2256 - accuracy: 0.6884 - precision_1: 0.6598 - recall_1: 0.3207 - val_loss: 0.2262 - val_accuracy: 0.6871 - val_precision_1: 0.6623 - val_recall_1: 0.3232\n",
            "Epoch 17/30\n",
            "5693/5693 [==============================] - 133s 23ms/step - loss: 0.2233 - accuracy: 0.6899 - precision_1: 0.6583 - recall_1: 0.3315 - val_loss: 0.2240 - val_accuracy: 0.6889 - val_precision_1: 0.6623 - val_recall_1: 0.3332\n",
            "Epoch 18/30\n",
            "5693/5693 [==============================] - 132s 23ms/step - loss: 0.2211 - accuracy: 0.6914 - precision_1: 0.6576 - recall_1: 0.3414 - val_loss: 0.2219 - val_accuracy: 0.6905 - val_precision_1: 0.6614 - val_recall_1: 0.3432\n",
            "Epoch 19/30\n",
            "5693/5693 [==============================] - 135s 24ms/step - loss: 0.2191 - accuracy: 0.6930 - precision_1: 0.6572 - recall_1: 0.3507 - val_loss: 0.2199 - val_accuracy: 0.6914 - val_precision_1: 0.6594 - val_recall_1: 0.3516\n",
            "Epoch 20/30\n",
            "5693/5693 [==============================] - 135s 24ms/step - loss: 0.2173 - accuracy: 0.6943 - precision_1: 0.6569 - recall_1: 0.3589 - val_loss: 0.2181 - val_accuracy: 0.6926 - val_precision_1: 0.6587 - val_recall_1: 0.3592\n",
            "Epoch 21/30\n",
            "5693/5693 [==============================] - 134s 24ms/step - loss: 0.2155 - accuracy: 0.6957 - precision_1: 0.6567 - recall_1: 0.3667 - val_loss: 0.2164 - val_accuracy: 0.6940 - val_precision_1: 0.6591 - val_recall_1: 0.3665\n",
            "Epoch 22/30\n",
            "5693/5693 [==============================] - 134s 24ms/step - loss: 0.2139 - accuracy: 0.6968 - precision_1: 0.6566 - recall_1: 0.3734 - val_loss: 0.2148 - val_accuracy: 0.6953 - val_precision_1: 0.6593 - val_recall_1: 0.3731\n",
            "Epoch 23/30\n",
            "5693/5693 [==============================] - 134s 24ms/step - loss: 0.2124 - accuracy: 0.6978 - precision_1: 0.6563 - recall_1: 0.3796 - val_loss: 0.2133 - val_accuracy: 0.6963 - val_precision_1: 0.6594 - val_recall_1: 0.3790\n",
            "Epoch 24/30\n",
            "5693/5693 [==============================] - 135s 24ms/step - loss: 0.2111 - accuracy: 0.6986 - precision_1: 0.6559 - recall_1: 0.3851 - val_loss: 0.2120 - val_accuracy: 0.6967 - val_precision_1: 0.6576 - val_recall_1: 0.3842\n",
            "Epoch 25/30\n",
            "5693/5693 [==============================] - 136s 24ms/step - loss: 0.2098 - accuracy: 0.6995 - precision_1: 0.6557 - recall_1: 0.3905 - val_loss: 0.2107 - val_accuracy: 0.6977 - val_precision_1: 0.6574 - val_recall_1: 0.3900\n",
            "Epoch 26/30\n",
            "5693/5693 [==============================] - 134s 24ms/step - loss: 0.2085 - accuracy: 0.7003 - precision_1: 0.6555 - recall_1: 0.3957 - val_loss: 0.2095 - val_accuracy: 0.6982 - val_precision_1: 0.6570 - val_recall_1: 0.3940\n",
            "Epoch 27/30\n",
            "5693/5693 [==============================] - 134s 24ms/step - loss: 0.2074 - accuracy: 0.7010 - precision_1: 0.6550 - recall_1: 0.4001 - val_loss: 0.2084 - val_accuracy: 0.6990 - val_precision_1: 0.6572 - val_recall_1: 0.3981\n",
            "Epoch 28/30\n",
            "5693/5693 [==============================] - 135s 24ms/step - loss: 0.2063 - accuracy: 0.7018 - precision_1: 0.6552 - recall_1: 0.4047 - val_loss: 0.2074 - val_accuracy: 0.6999 - val_precision_1: 0.6573 - val_recall_1: 0.4026\n",
            "Epoch 29/30\n",
            "5693/5693 [==============================] - 134s 24ms/step - loss: 0.2053 - accuracy: 0.7025 - precision_1: 0.6552 - recall_1: 0.4089 - val_loss: 0.2064 - val_accuracy: 0.7008 - val_precision_1: 0.6581 - val_recall_1: 0.4064\n",
            "Epoch 30/30\n",
            "5693/5693 [==============================] - 136s 24ms/step - loss: 0.2044 - accuracy: 0.7033 - precision_1: 0.6554 - recall_1: 0.4127 - val_loss: 0.2055 - val_accuracy: 0.7014 - val_precision_1: 0.6579 - val_recall_1: 0.4101\n"
          ]
        }
      ]
    },
    {
      "cell_type": "code",
      "source": [
        "malstm.save_weights('/content/drive/My Drive/weights_all/checkpoint')\n",
        "\n"
      ],
      "metadata": {
        "id": "H2uC5Rwl4TdD"
      },
      "id": "H2uC5Rwl4TdD",
      "execution_count": 24,
      "outputs": []
    },
    {
      "cell_type": "code",
      "source": [
        " print(\"Training time finished.\\n{} epochs in {}\".format(n_epoch, datetime.timedelta(seconds=time()-training_start_time)))"
      ],
      "metadata": {
        "colab": {
          "base_uri": "https://localhost:8080/"
        },
        "id": "DaSql9JSH5sx",
        "outputId": "27d25eca-70d2-4a6d-d3ab-2c90cbb9be02"
      },
      "id": "DaSql9JSH5sx",
      "execution_count": 11,
      "outputs": [
        {
          "output_type": "stream",
          "name": "stdout",
          "text": [
            "Training time finished.\n",
            "10 epochs in 0:21:38.998294\n"
          ]
        }
      ]
    },
    {
      "cell_type": "code",
      "source": [
        "# Plot accuracy\n",
        "plt.plot(malstm_trained.history['accuracy'])\n",
        "plt.plot(malstm_trained.history['val_accuracy'])\n",
        "plt.title('Model Accuracy')\n",
        "plt.ylabel('Accuracy')\n",
        "plt.xlabel('Epoch')\n",
        "plt.legend(['Train', 'Validation'], loc='upper left')\n",
        "plt.show()\n",
        "\n",
        "# Plot loss\n",
        "plt.plot(malstm_trained.history['loss'])\n",
        "plt.plot(malstm_trained.history['val_loss'])\n",
        "plt.title('Model Loss')\n",
        "plt.ylabel('Loss')\n",
        "plt.xlabel('Epoch')\n",
        "plt.legend(['Train', 'Validation'], loc='upper right')\n",
        "plt.show()"
      ],
      "metadata": {
        "colab": {
          "base_uri": "https://localhost:8080/",
          "height": 573
        },
        "id": "uG1IGmu7H8JJ",
        "outputId": "b94dd99a-ae28-4996-a784-af832b9aa24a"
      },
      "id": "uG1IGmu7H8JJ",
      "execution_count": 12,
      "outputs": [
        {
          "output_type": "display_data",
          "data": {
            "text/plain": [
              "<Figure size 432x288 with 1 Axes>"
            ],
            "image/png": "[encoded data removed]"
          },
          "metadata": {
            "needs_background": "light"
          }
        },
        {
          "output_type": "display_data",
          "data": {
            "text/plain": [
              "<Figure size 432x288 with 1 Axes>"
            ],
            "image/png": "[encoded data removed]"
          },
          "metadata": {
            "needs_background": "light"
          }
        }
      ]
    }
  ],
  "metadata": {
    "kernelspec": {
      "display_name": "general",
      "language": "python",
      "name": "general"
    },
    "language_info": {
      "codemirror_mode": {
        "name": "ipython",
        "version": 3
      },
      "file_extension": ".py",
      "mimetype": "text/x-python",
      "name": "python",
      "nbconvert_exporter": "python",
      "pygments_lexer": "ipython3",
      "version": "3.8.5"
    },
    "colab": {
      "name": "Quora_Question_Pairs_Glove.ipynb",
      "provenance": []
    },
    "accelerator": "GPU"
  },
  "nbformat": 4,
  "nbformat_minor": 5
}