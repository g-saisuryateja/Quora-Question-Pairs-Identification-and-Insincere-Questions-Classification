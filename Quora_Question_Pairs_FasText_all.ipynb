{
  "cells": [
    {
      "cell_type": "code",
      "source": [
        "pip install --upgrade gensim"
      ],
      "metadata": {
        "colab": {
          "base_uri": "https://localhost:8080/"
        },
        "id": "PigIoZKjoAfb",
        "outputId": "ae7c5c68-3a16-4dc7-e7d9-e026df906825"
      },
      "id": "PigIoZKjoAfb",
      "execution_count": 1,
      "outputs": [
        {
          "output_type": "stream",
          "name": "stdout",
          "text": [
            "Looking in indexes: https://pypi.org/simple, https://us-python.pkg.dev/colab-wheels/public/simple/\n",
            "Requirement already satisfied: gensim in /usr/local/lib/python3.7/dist-packages (3.6.0)\n",
            "Collecting gensim\n",
            "  Downloading gensim-4.2.0-cp37-cp37m-manylinux_2_12_x86_64.manylinux2010_x86_64.whl (24.1 MB)\n",
            "\u001b[K     |████████████████████████████████| 24.1 MB 58.8 MB/s \n",
            "\u001b[?25hRequirement already satisfied: scipy>=0.18.1 in /usr/local/lib/python3.7/dist-packages (from gensim) (1.4.1)\n",
            "Requirement already satisfied: numpy>=1.17.0 in /usr/local/lib/python3.7/dist-packages (from gensim) (1.21.6)\n",
            "Requirement already satisfied: smart-open>=1.8.1 in /usr/local/lib/python3.7/dist-packages (from gensim) (6.0.0)\n",
            "Installing collected packages: gensim\n",
            "  Attempting uninstall: gensim\n",
            "    Found existing installation: gensim 3.6.0\n",
            "    Uninstalling gensim-3.6.0:\n",
            "      Successfully uninstalled gensim-3.6.0\n",
            "Successfully installed gensim-4.2.0\n"
          ]
        }
      ]
    },
    {
      "cell_type": "code",
      "execution_count": 2,
      "id": "cb34d504-6472-4eee-bce6-661106a72f1f",
      "metadata": {
        "id": "cb34d504-6472-4eee-bce6-661106a72f1f"
      },
      "outputs": [],
      "source": [
        "from time import time\n",
        "import pandas as pd\n",
        "import numpy as np\n",
        "from gensim.models import KeyedVectors\n",
        "import re\n",
        "from nltk.corpus import stopwords\n",
        "from sklearn.model_selection import train_test_split\n",
        "import matplotlib.pyplot as plt\n",
        "import seaborn as sns\n",
        "\n",
        "import itertools\n",
        "import datetime\n",
        "\n",
        "from keras.preprocessing.sequence import pad_sequences\n",
        "from keras.models import Model\n",
        "from keras.layers import Input, Embedding, LSTM, Lambda\n",
        "import keras.backend as K\n",
        "from tensorflow.keras.optimizers import Adam, Adadelta\n",
        "from keras.callbacks import ModelCheckpoint"
      ]
    },
    {
      "cell_type": "code",
      "source": [
        "from google.colab import drive\n",
        "drive.mount('/content/drive')"
      ],
      "metadata": {
        "colab": {
          "base_uri": "https://localhost:8080/"
        },
        "id": "hjBY7ak8jpj4",
        "outputId": "3037b817-ba3d-41ca-98a3-9366e9ecc292"
      },
      "id": "hjBY7ak8jpj4",
      "execution_count": 3,
      "outputs": [
        {
          "output_type": "stream",
          "name": "stdout",
          "text": [
            "Mounted at /content/drive\n"
          ]
        }
      ]
    },
    {
      "cell_type": "code",
      "execution_count": 4,
      "id": "63d17371-d97f-402b-9594-b6ab6a140585",
      "metadata": {
        "id": "63d17371-d97f-402b-9594-b6ab6a140585"
      },
      "outputs": [],
      "source": [
        "# File paths\n",
        "TRAIN_CSV = '/content/drive/My Drive/NLP/QP/train.csv'\n",
        "TEST_CSV = '/content/drive/My Drive/NLP/QP/test.csv'\n",
        "EMBEDDING_FILE = '/content/drive/My Drive/NLP/wiki-news-300d-1M.vec'\n",
        "MODEL_SAVING_DIR = '/content/drive/My Drive/NLP/'"
      ]
    },
    {
      "cell_type": "code",
      "execution_count": 5,
      "id": "2d788ef5-294c-4154-b7af-235a3de77333",
      "metadata": {
        "colab": {
          "base_uri": "https://localhost:8080/"
        },
        "id": "2d788ef5-294c-4154-b7af-235a3de77333",
        "outputId": "f107cc96-faf1-4fe9-b8c9-d82753684852"
      },
      "outputs": [
        {
          "output_type": "stream",
          "name": "stdout",
          "text": [
            "[nltk_data] Downloading package stopwords to /root/nltk_data...\n",
            "[nltk_data]   Unzipping corpora/stopwords.zip.\n"
          ]
        }
      ],
      "source": [
        "# Load training and test set\n",
        "train_df = pd.read_csv(TRAIN_CSV)\n",
        "test_df = pd.read_csv(TEST_CSV)\n",
        "import nltk\n",
        "nltk.download('stopwords')\n",
        "stops = set(stopwords.words('english'))\n",
        "\n",
        "def text_to_word_list(text):\n",
        "    ''' Pre process and convert texts to a list of words '''\n",
        "    text = str(text)\n",
        "    text = text.lower()\n",
        "\n",
        "    # Clean the text\n",
        "    text = re.sub(r\"[^A-Za-z0-9^,!.\\/'+-=]\", \" \", text)\n",
        "    text = re.sub(r\"what's\", \"what is \", text)\n",
        "    text = re.sub(r\"\\'s\", \" \", text)\n",
        "    text = re.sub(r\"\\'ve\", \" have \", text)\n",
        "    text = re.sub(r\"can't\", \"cannot \", text)\n",
        "    text = re.sub(r\"n't\", \" not \", text)\n",
        "    text = re.sub(r\"i'm\", \"i am \", text)\n",
        "    text = re.sub(r\"\\'re\", \" are \", text)\n",
        "    text = re.sub(r\"\\'d\", \" would \", text)\n",
        "    text = re.sub(r\"\\'ll\", \" will \", text)\n",
        "    text = re.sub(r\",\", \" \", text)\n",
        "    text = re.sub(r\"\\.\", \" \", text)\n",
        "    text = re.sub(r\"!\", \" ! \", text)\n",
        "    text = re.sub(r\"\\/\", \" \", text)\n",
        "    text = re.sub(r\"\\^\", \" ^ \", text)\n",
        "    text = re.sub(r\"\\+\", \" + \", text)\n",
        "    text = re.sub(r\"\\-\", \" - \", text)\n",
        "    text = re.sub(r\"\\=\", \" = \", text)\n",
        "    text = re.sub(r\"'\", \" \", text)\n",
        "    text = re.sub(r\"(\\d+)(k)\", r\"\\g<1>000\", text)\n",
        "    text = re.sub(r\":\", \" : \", text)\n",
        "    text = re.sub(r\" e g \", \" eg \", text)\n",
        "    text = re.sub(r\" b g \", \" bg \", text)\n",
        "    text = re.sub(r\" u s \", \" american \", text)\n",
        "    text = re.sub(r\"\\0s\", \"0\", text)\n",
        "    text = re.sub(r\" 9 11 \", \"911\", text)\n",
        "    text = re.sub(r\"e - mail\", \"email\", text)\n",
        "    text = re.sub(r\"j k\", \"jk\", text)\n",
        "    text = re.sub(r\"\\s{2,}\", \" \", text)\n",
        "\n",
        "    text = text.split()\n",
        "    return text\n",
        "\n",
        "# Prepare embedding\n",
        "vocabulary = dict()\n",
        "inverse_vocabulary = ['<unk>']  # '<unk>' will never be used, it is only a placeholder for the [0, 0, ....0] embedding\n",
        "word2vec = KeyedVectors.load_word2vec_format(EMBEDDING_FILE)\n",
        "\n",
        "questions_cols = ['question1', 'question2']\n",
        "\n",
        "# Iterate over the questions only of both training and test datasets\n",
        "for dataset in [train_df, test_df]:\n",
        "    for index, row in dataset.iterrows():\n",
        "\n",
        "        # Iterate through the text of both questions of the row\n",
        "        for question in questions_cols:\n",
        "\n",
        "            q2n = []  # q2n -> question numbers representation\n",
        "            for word in text_to_word_list(row[question]):\n",
        "\n",
        "                # Check for unwanted words\n",
        "                if word in stops and word not in word2vec.key_to_index:\n",
        "                    continue\n",
        "\n",
        "                if word not in vocabulary:\n",
        "                    vocabulary[word] = len(inverse_vocabulary)\n",
        "                    q2n.append(len(inverse_vocabulary))\n",
        "                    inverse_vocabulary.append(word)\n",
        "                else:\n",
        "                    q2n.append(vocabulary[word])\n",
        "                    # Replace questions as word to question as number representation\n",
        "            #dataset.set_value(index, question, q2n)\n",
        "            dataset.at[index, question] = q2n\n",
        "            \n",
        "embedding_dim = 300\n",
        "embeddings = 1 * np.random.randn(len(vocabulary) + 1, embedding_dim)  # This will be the embedding matrix\n",
        "embeddings[0] = 0  # So that the padding will be ignored\n",
        "\n",
        "# Build the embedding matrix\n",
        "for word, index in vocabulary.items():\n",
        "    if word in word2vec.key_to_index:\n",
        "        embeddings[index] = word2vec.get_vector(word)\n",
        "\n",
        "del word2vec\n",
        "\n"
      ]
    },
    {
      "cell_type": "code",
      "execution_count": 6,
      "id": "0a8dd460-5849-43cd-8571-38f24cc08b47",
      "metadata": {
        "id": "0a8dd460-5849-43cd-8571-38f24cc08b47"
      },
      "outputs": [],
      "source": [
        "max_seq_length = max(train_df.question1.map(lambda x: len(x)).max(),\n",
        "                     train_df.question2.map(lambda x: len(x)).max(),\n",
        "                     test_df.question1.map(lambda x: len(x)).max(),\n",
        "                     test_df.question2.map(lambda x: len(x)).max())\n",
        "\n",
        "# Split to train validation\n",
        "validation_size = 40000\n",
        "training_size = len(train_df) - validation_size\n",
        "\n",
        "X = train_df[questions_cols]\n",
        "Y = train_df['is_duplicate']\n",
        "\n",
        "X_train, X_validation, Y_train, Y_validation = train_test_split(X, Y, test_size=validation_size)\n",
        "\n",
        "# Split to dicts\n",
        "X_train = {'left': X_train.question1, 'right': X_train.question2}\n",
        "X_validation = {'left': X_validation.question1, 'right': X_validation.question2}\n",
        "X_test = {'left': test_df.question1, 'right': test_df.question2}\n",
        "\n",
        "# Convert labels to their numpy representations\n",
        "Y_train = Y_train.values\n",
        "Y_validation = Y_validation.values\n",
        "\n",
        "# Zero padding\n",
        "for dataset, side in itertools.product([X_train, X_validation], ['left', 'right']):\n",
        "    dataset[side] = pad_sequences(dataset[side], maxlen=max_seq_length)\n",
        "\n",
        "# Make sure everything is ok\n",
        "assert X_train['left'].shape == X_train['right'].shape\n",
        "assert len(X_train['left']) == len(Y_train)"
      ]
    },
    {
      "cell_type": "code",
      "source": [
        "import tensorflow as tf"
      ],
      "metadata": {
        "id": "qBAQOVlKZnEN"
      },
      "id": "qBAQOVlKZnEN",
      "execution_count": 11,
      "outputs": []
    },
    {
      "cell_type": "code",
      "execution_count": 12,
      "id": "27a4abf7-161d-49d7-acc1-68fed7baa54f",
      "metadata": {
        "id": "27a4abf7-161d-49d7-acc1-68fed7baa54f",
        "outputId": "9ec214d1-7b5a-4500-cadf-4821cc8ad8a7",
        "colab": {
          "base_uri": "https://localhost:8080/"
        }
      },
      "outputs": [
        {
          "output_type": "stream",
          "name": "stdout",
          "text": [
            "Epoch 1/30\n",
            "5693/5693 [==============================] - 134s 23ms/step - loss: 0.1614 - accuracy: 0.7665 - precision: 0.7361 - recall: 0.5729 - val_loss: 0.1498 - val_accuracy: 0.7896 - val_precision: 0.7651 - val_recall: 0.6218\n",
            "Epoch 2/30\n",
            "5693/5693 [==============================] - 128s 22ms/step - loss: 0.1428 - accuracy: 0.8021 - precision: 0.7739 - recall: 0.6554 - val_loss: 0.1415 - val_accuracy: 0.8066 - val_precision: 0.7615 - val_recall: 0.6944\n",
            "Epoch 3/30\n",
            "5693/5693 [==============================] - 128s 22ms/step - loss: 0.1353 - accuracy: 0.8145 - precision: 0.7867 - recall: 0.6826 - val_loss: 0.1368 - val_accuracy: 0.8119 - val_precision: 0.7848 - val_recall: 0.6771\n",
            "Epoch 4/30\n",
            "5693/5693 [==============================] - 128s 23ms/step - loss: 0.1302 - accuracy: 0.8229 - precision: 0.7958 - recall: 0.6997 - val_loss: 0.1336 - val_accuracy: 0.8164 - val_precision: 0.7965 - val_recall: 0.6764\n",
            "Epoch 5/30\n",
            "5693/5693 [==============================] - 128s 23ms/step - loss: 0.1264 - accuracy: 0.8289 - precision: 0.8025 - recall: 0.7116 - val_loss: 0.1314 - val_accuracy: 0.8212 - val_precision: 0.7948 - val_recall: 0.6963\n",
            "Epoch 6/30\n",
            "5693/5693 [==============================] - 128s 22ms/step - loss: 0.1234 - accuracy: 0.8343 - precision: 0.8091 - recall: 0.7211 - val_loss: 0.1291 - val_accuracy: 0.8214 - val_precision: 0.8050 - val_recall: 0.6825\n",
            "Epoch 7/30\n",
            "5693/5693 [==============================] - 128s 22ms/step - loss: 0.1208 - accuracy: 0.8380 - precision: 0.8135 - recall: 0.7279 - val_loss: 0.1276 - val_accuracy: 0.8256 - val_precision: 0.7956 - val_recall: 0.7109\n",
            "Epoch 8/30\n",
            "5693/5693 [==============================] - 128s 22ms/step - loss: 0.1187 - accuracy: 0.8414 - precision: 0.8176 - recall: 0.7340 - val_loss: 0.1276 - val_accuracy: 0.8218 - val_precision: 0.8137 - val_recall: 0.6720\n",
            "Epoch 9/30\n",
            "5693/5693 [==============================] - 128s 22ms/step - loss: 0.1168 - accuracy: 0.8445 - precision: 0.8217 - recall: 0.7391 - val_loss: 0.1260 - val_accuracy: 0.8269 - val_precision: 0.7931 - val_recall: 0.7196\n",
            "Epoch 10/30\n",
            "5693/5693 [==============================] - 128s 22ms/step - loss: 0.1152 - accuracy: 0.8468 - precision: 0.8238 - recall: 0.7440 - val_loss: 0.1249 - val_accuracy: 0.8291 - val_precision: 0.8006 - val_recall: 0.7162\n",
            "Epoch 11/30\n",
            "5693/5693 [==============================] - 129s 23ms/step - loss: 0.1136 - accuracy: 0.8497 - precision: 0.8278 - recall: 0.7486 - val_loss: 0.1245 - val_accuracy: 0.8317 - val_precision: 0.7891 - val_recall: 0.7438\n",
            "Epoch 12/30\n",
            "5693/5693 [==============================] - 128s 23ms/step - loss: 0.1124 - accuracy: 0.8517 - precision: 0.8294 - recall: 0.7530 - val_loss: 0.1241 - val_accuracy: 0.8298 - val_precision: 0.8099 - val_recall: 0.7053\n",
            "Epoch 13/30\n",
            "5693/5693 [==============================] - 128s 23ms/step - loss: 0.1111 - accuracy: 0.8536 - precision: 0.8323 - recall: 0.7556 - val_loss: 0.1236 - val_accuracy: 0.8317 - val_precision: 0.7889 - val_recall: 0.7438\n",
            "Epoch 14/30\n",
            "5693/5693 [==============================] - 131s 23ms/step - loss: 0.1099 - accuracy: 0.8560 - precision: 0.8356 - recall: 0.7592 - val_loss: 0.1235 - val_accuracy: 0.8303 - val_precision: 0.8144 - val_recall: 0.7010\n",
            "Epoch 15/30\n",
            "5693/5693 [==============================] - 133s 23ms/step - loss: 0.1088 - accuracy: 0.8574 - precision: 0.8368 - recall: 0.7624 - val_loss: 0.1227 - val_accuracy: 0.8324 - val_precision: 0.8081 - val_recall: 0.7169\n",
            "Epoch 16/30\n",
            "5693/5693 [==============================] - 134s 24ms/step - loss: 0.1078 - accuracy: 0.8597 - precision: 0.8398 - recall: 0.7662 - val_loss: 0.1228 - val_accuracy: 0.8351 - val_precision: 0.7869 - val_recall: 0.7598\n",
            "Epoch 17/30\n",
            "5693/5693 [==============================] - 129s 23ms/step - loss: 0.1069 - accuracy: 0.8613 - precision: 0.8417 - recall: 0.7687 - val_loss: 0.1224 - val_accuracy: 0.8331 - val_precision: 0.8083 - val_recall: 0.7192\n",
            "Epoch 18/30\n",
            "5693/5693 [==============================] - 128s 22ms/step - loss: 0.1060 - accuracy: 0.8629 - precision: 0.8436 - recall: 0.7714 - val_loss: 0.1231 - val_accuracy: 0.8306 - val_precision: 0.8239 - val_recall: 0.6892\n",
            "Epoch 19/30\n",
            "5693/5693 [==============================] - 133s 23ms/step - loss: 0.1052 - accuracy: 0.8637 - precision: 0.8444 - recall: 0.7732 - val_loss: 0.1216 - val_accuracy: 0.8356 - val_precision: 0.8013 - val_recall: 0.7386\n",
            "Epoch 20/30\n",
            "5693/5693 [==============================] - 134s 24ms/step - loss: 0.1044 - accuracy: 0.8649 - precision: 0.8458 - recall: 0.7753 - val_loss: 0.1217 - val_accuracy: 0.8354 - val_precision: 0.7905 - val_recall: 0.7550\n",
            "Epoch 21/30\n",
            "5693/5693 [==============================] - 134s 24ms/step - loss: 0.1036 - accuracy: 0.8666 - precision: 0.8481 - recall: 0.7778 - val_loss: 0.1211 - val_accuracy: 0.8352 - val_precision: 0.8056 - val_recall: 0.7307\n",
            "Epoch 22/30\n",
            "5693/5693 [==============================] - 134s 24ms/step - loss: 0.1028 - accuracy: 0.8680 - precision: 0.8499 - recall: 0.7801 - val_loss: 0.1213 - val_accuracy: 0.8351 - val_precision: 0.8178 - val_recall: 0.7129\n",
            "Epoch 23/30\n",
            "5693/5693 [==============================] - 141s 25ms/step - loss: 0.1021 - accuracy: 0.8688 - precision: 0.8507 - recall: 0.7818 - val_loss: 0.1224 - val_accuracy: 0.8328 - val_precision: 0.8256 - val_recall: 0.6947\n",
            "Epoch 24/30\n",
            "5693/5693 [==============================] - 136s 24ms/step - loss: 0.1015 - accuracy: 0.8700 - precision: 0.8523 - recall: 0.7837 - val_loss: 0.1208 - val_accuracy: 0.8367 - val_precision: 0.8014 - val_recall: 0.7424\n",
            "Epoch 25/30\n",
            "5693/5693 [==============================] - 133s 23ms/step - loss: 0.1009 - accuracy: 0.8713 - precision: 0.8537 - recall: 0.7862 - val_loss: 0.1210 - val_accuracy: 0.8363 - val_precision: 0.7923 - val_recall: 0.7554\n",
            "Epoch 26/30\n",
            "5693/5693 [==============================] - 134s 23ms/step - loss: 0.1003 - accuracy: 0.8720 - precision: 0.8545 - recall: 0.7874 - val_loss: 0.1209 - val_accuracy: 0.8367 - val_precision: 0.7931 - val_recall: 0.7555\n",
            "Epoch 27/30\n",
            "5693/5693 [==============================] - 134s 23ms/step - loss: 0.0997 - accuracy: 0.8734 - precision: 0.8563 - recall: 0.7896 - val_loss: 0.1205 - val_accuracy: 0.8361 - val_precision: 0.8155 - val_recall: 0.7197\n",
            "Epoch 28/30\n",
            "5693/5693 [==============================] - 133s 23ms/step - loss: 0.0992 - accuracy: 0.8744 - precision: 0.8573 - recall: 0.7914 - val_loss: 0.1203 - val_accuracy: 0.8381 - val_precision: 0.8109 - val_recall: 0.7332\n",
            "Epoch 29/30\n",
            "5693/5693 [==============================] - 133s 23ms/step - loss: 0.0986 - accuracy: 0.8751 - precision: 0.8582 - recall: 0.7926 - val_loss: 0.1208 - val_accuracy: 0.8357 - val_precision: 0.8149 - val_recall: 0.7190\n",
            "Epoch 30/30\n",
            "5693/5693 [==============================] - 132s 23ms/step - loss: 0.0981 - accuracy: 0.8762 - precision: 0.8598 - recall: 0.7942 - val_loss: 0.1202 - val_accuracy: 0.8372 - val_precision: 0.8012 - val_recall: 0.7447\n"
          ]
        }
      ],
      "source": [
        "# Model variables\n",
        "n_hidden = 50\n",
        "gradient_clipping_norm = 1.25\n",
        "batch_size = 64\n",
        "n_epoch = 30\n",
        "\n",
        "def exponent_neg_manhattan_distance(left, right):\n",
        "    ''' Helper function for the similarity estimate of the LSTMs outputs'''\n",
        "    return K.exp(-K.sum(K.abs(left-right), axis=1, keepdims=True))\n",
        "\n",
        "# The visible layer\n",
        "left_input = Input(shape=(max_seq_length,), dtype='int32')\n",
        "right_input = Input(shape=(max_seq_length,), dtype='int32')\n",
        "\n",
        "embedding_layer = Embedding(len(embeddings), embedding_dim, weights=[embeddings], input_length=max_seq_length, trainable=False)\n",
        "\n",
        "# Embedded version of the inputs\n",
        "encoded_left = embedding_layer(left_input)\n",
        "encoded_right = embedding_layer(right_input)\n",
        "\n",
        "# Since this is a siamese network, both sides share the same LSTM\n",
        "shared_lstm = LSTM(n_hidden)\n",
        "\n",
        "left_output = shared_lstm(encoded_left)\n",
        "right_output = shared_lstm(encoded_right)\n",
        "\n",
        "# Calculates the distance as defined by the MaLSTM model\n",
        "malstm_distance = Lambda(function=lambda x: exponent_neg_manhattan_distance(x[0], x[1]),output_shape=lambda x: (x[0][0], 1))([left_output, right_output])\n",
        "\n",
        "# Pack it all up into a model\n",
        "malstm = Model([left_input, right_input], [malstm_distance])\n",
        "\n",
        "# Adadelta optimizer, with gradient clipping by norm\n",
        "optimizer = Adam(clipnorm=gradient_clipping_norm)\n",
        "\n",
        "malstm.compile(loss='mean_squared_error', optimizer=optimizer, metrics=['accuracy',tf.keras.metrics.Precision(),tf.keras.metrics.Recall()])\n",
        "\n",
        "# Start training\n",
        "training_start_time = time()\n",
        "\n",
        "malstm_trained = malstm.fit([X_train['left'], X_train['right']], Y_train, batch_size=batch_size, epochs=n_epoch,\n",
        "                            validation_data=([X_validation['left'], X_validation['right']], Y_validation))"
      ]
    },
    {
      "cell_type": "code",
      "execution_count": 13,
      "id": "dd712985-c0a3-4ca1-9090-d1b619000a03",
      "metadata": {
        "id": "dd712985-c0a3-4ca1-9090-d1b619000a03",
        "outputId": "bbef4401-615c-4cd7-d157-270a3c80bd09",
        "colab": {
          "base_uri": "https://localhost:8080/"
        }
      },
      "outputs": [
        {
          "output_type": "stream",
          "name": "stdout",
          "text": [
            "Training time finished.\n",
            "30 epochs in 1:07:29.830338\n"
          ]
        }
      ],
      "source": [
        "print(\"Training time finished.\\n{} epochs in {}\".format(n_epoch, datetime.timedelta(seconds=time()-training_start_time)))"
      ]
    },
    {
      "cell_type": "code",
      "execution_count": 14,
      "id": "8ff0b13c-30a7-4cf3-80af-52affb8a9859",
      "metadata": {
        "id": "8ff0b13c-30a7-4cf3-80af-52affb8a9859",
        "outputId": "c030e7e0-a3ab-49e4-8657-26cc808715ad",
        "colab": {
          "base_uri": "https://localhost:8080/",
          "height": 573
        }
      },
      "outputs": [
        {
          "output_type": "display_data",
          "data": {
            "text/plain": [
              "<Figure size 432x288 with 1 Axes>"
            ],
            "image/png": "[encoded data removed]"
          },
          "metadata": {
            "needs_background": "light"
          }
        },
        {
          "output_type": "display_data",
          "data": {
            "text/plain": [
              "<Figure size 432x288 with 1 Axes>"
            ],
            "image/png": "[encoded data removed]"
          },
          "metadata": {
            "needs_background": "light"
          }
        }
      ],
      "source": [
        "# Plot accuracy\n",
        "plt.plot(malstm_trained.history['accuracy'])\n",
        "plt.plot(malstm_trained.history['val_accuracy'])\n",
        "plt.title('Model Accuracy')\n",
        "plt.ylabel('Accuracy')\n",
        "plt.xlabel('Epoch')\n",
        "plt.legend(['Train', 'Validation'], loc='upper left')\n",
        "plt.show()\n",
        "\n",
        "# Plot loss\n",
        "plt.plot(malstm_trained.history['loss'])\n",
        "plt.plot(malstm_trained.history['val_loss'])\n",
        "plt.title('Model Loss')\n",
        "plt.ylabel('Loss')\n",
        "plt.xlabel('Epoch')\n",
        "plt.legend(['Train', 'Validation'], loc='upper right')\n",
        "plt.show()"
      ]
    },
    {
      "cell_type": "code",
      "execution_count": 16,
      "id": "fe8f023e-730c-480c-87ae-a07755ca95c5",
      "metadata": {
        "id": "fe8f023e-730c-480c-87ae-a07755ca95c5"
      },
      "outputs": [],
      "source": [
        "malstm.save('MALSTM_wikinews.h5')"
      ]
    },
    {
      "cell_type": "code",
      "source": [
        "malstm.save_weights('drive/My Drive/weights_all_pairs_fasttext/checkpoint')"
      ],
      "metadata": {
        "id": "8u87jVdsNsHK"
      },
      "id": "8u87jVdsNsHK",
      "execution_count": 20,
      "outputs": []
    },
    {
      "cell_type": "code",
      "source": [
        ""
      ],
      "metadata": {
        "id": "m5b13OinqeFf"
      },
      "id": "m5b13OinqeFf",
      "execution_count": null,
      "outputs": []
    }
  ],
  "metadata": {
    "kernelspec": {
      "display_name": "general",
      "language": "python",
      "name": "general"
    },
    "language_info": {
      "codemirror_mode": {
        "name": "ipython",
        "version": 3
      },
      "file_extension": ".py",
      "mimetype": "text/x-python",
      "name": "python",
      "nbconvert_exporter": "python",
      "pygments_lexer": "ipython3",
      "version": "3.8.5"
    },
    "colab": {
      "name": "Quora_Question_Pairs_FasText.ipynb",
      "provenance": [],
      "collapsed_sections": []
    },
    "accelerator": "GPU"
  },
  "nbformat": 4,
  "nbformat_minor": 5
}